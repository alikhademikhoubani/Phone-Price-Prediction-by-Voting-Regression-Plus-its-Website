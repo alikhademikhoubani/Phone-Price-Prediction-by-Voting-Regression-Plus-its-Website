{
 "cells": [
  {
   "cell_type": "code",
   "execution_count": 277,
   "id": "2ab086e5",
   "metadata": {},
   "outputs": [],
   "source": [
    "import pandas as pd\n",
    "import numpy as np\n",
    "import seaborn as sns\n",
    "import matplotlib.pyplot as plt\n",
    "from sklearn.preprocessing import StandardScaler\n",
    "from sklearn.model_selection import train_test_split\n",
    "from sklearn.pipeline import Pipeline\n",
    "from sklearn.preprocessing import OneHotEncoder\n",
    "from sklearn.preprocessing import MinMaxScaler\n",
    "from sklearn.ensemble import RandomForestRegressor\n",
    "from sklearn.ensemble import GradientBoostingRegressor\n",
    "from xgboost import XGBRegressor\n",
    "from sklearn.linear_model import LinearRegression\n",
    "from sklearn.ensemble import ExtraTreesRegressor\n",
    "from sklearn.compose import ColumnTransformer\n",
    "from sklearn.ensemble import VotingRegressor,StackingRegressor\n",
    "from sklearn.metrics import r2_score,mean_absolute_error,mean_squared_error\n",
    "import pickle"
   ]
  },
  {
   "cell_type": "code",
   "execution_count": 164,
   "id": "0bf1c923",
   "metadata": {},
   "outputs": [
    {
     "data": {
      "text/html": [
       "<div>\n",
       "<style scoped>\n",
       "    .dataframe tbody tr th:only-of-type {\n",
       "        vertical-align: middle;\n",
       "    }\n",
       "\n",
       "    .dataframe tbody tr th {\n",
       "        vertical-align: top;\n",
       "    }\n",
       "\n",
       "    .dataframe thead th {\n",
       "        text-align: right;\n",
       "    }\n",
       "</style>\n",
       "<table border=\"1\" class=\"dataframe\">\n",
       "  <thead>\n",
       "    <tr style=\"text-align: right;\">\n",
       "      <th></th>\n",
       "      <th>Unnamed: 0</th>\n",
       "      <th>link</th>\n",
       "      <th>name</th>\n",
       "      <th>price</th>\n",
       "      <th>rating</th>\n",
       "      <th>rating&amp;review_c</th>\n",
       "      <th>description</th>\n",
       "    </tr>\n",
       "  </thead>\n",
       "  <tbody>\n",
       "    <tr>\n",
       "      <th>0</th>\n",
       "      <td>0</td>\n",
       "      <td>https://www.flipkart.com/realme-9i-prism-black...</td>\n",
       "      <td>realme 9i (Prism Black, 64 GB)</td>\n",
       "      <td>₹10,499</td>\n",
       "      <td>4.5</td>\n",
       "      <td>1,10,702 Ratings &amp; 6,523 Reviews</td>\n",
       "      <td>4 GB RAM | 64 GB ROM | Expandable Upto 1 TB16....</td>\n",
       "    </tr>\n",
       "    <tr>\n",
       "      <th>1</th>\n",
       "      <td>1</td>\n",
       "      <td>https://www.flipkart.com/realme-9i-prism-blue-...</td>\n",
       "      <td>realme 9i (Prism Blue, 64 GB)</td>\n",
       "      <td>₹10,499</td>\n",
       "      <td>4.5</td>\n",
       "      <td>1,10,702 Ratings &amp; 6,523 Reviews</td>\n",
       "      <td>4 GB RAM | 64 GB ROM | Expandable Upto 1 TB16....</td>\n",
       "    </tr>\n",
       "    <tr>\n",
       "      <th>2</th>\n",
       "      <td>2</td>\n",
       "      <td>https://www.flipkart.com/realme-9i-prism-blue-...</td>\n",
       "      <td>realme 9i (Prism Blue, 128 GB)</td>\n",
       "      <td>₹11,499</td>\n",
       "      <td>4.5</td>\n",
       "      <td>1,10,702 Ratings &amp; 6,523 Reviews</td>\n",
       "      <td>4 GB RAM | 128 GB ROM | Expandable Upto 1 TB16...</td>\n",
       "    </tr>\n",
       "    <tr>\n",
       "      <th>3</th>\n",
       "      <td>3</td>\n",
       "      <td>https://www.flipkart.com/realme-9i-prism-black...</td>\n",
       "      <td>realme 9i (Prism Black, 128 GB)</td>\n",
       "      <td>₹13,499</td>\n",
       "      <td>4.5</td>\n",
       "      <td>25,154 Ratings &amp; 1,503 Reviews</td>\n",
       "      <td>6 GB RAM | 128 GB ROM | Expandable Upto 1 TB16...</td>\n",
       "    </tr>\n",
       "    <tr>\n",
       "      <th>4</th>\n",
       "      <td>4</td>\n",
       "      <td>https://www.flipkart.com/realme-9i-prism-black...</td>\n",
       "      <td>realme 9i (Prism Black, 128 GB)</td>\n",
       "      <td>₹11,499</td>\n",
       "      <td>4.5</td>\n",
       "      <td>1,10,702 Ratings &amp; 6,523 Reviews</td>\n",
       "      <td>4 GB RAM | 128 GB ROM | Expandable Upto 1 TB16...</td>\n",
       "    </tr>\n",
       "  </tbody>\n",
       "</table>\n",
       "</div>"
      ],
      "text/plain": [
       "   Unnamed: 0                                               link  \\\n",
       "0           0  https://www.flipkart.com/realme-9i-prism-black...   \n",
       "1           1  https://www.flipkart.com/realme-9i-prism-blue-...   \n",
       "2           2  https://www.flipkart.com/realme-9i-prism-blue-...   \n",
       "3           3  https://www.flipkart.com/realme-9i-prism-black...   \n",
       "4           4  https://www.flipkart.com/realme-9i-prism-black...   \n",
       "\n",
       "                              name    price  rating  \\\n",
       "0   realme 9i (Prism Black, 64 GB)  ₹10,499     4.5   \n",
       "1    realme 9i (Prism Blue, 64 GB)  ₹10,499     4.5   \n",
       "2   realme 9i (Prism Blue, 128 GB)  ₹11,499     4.5   \n",
       "3  realme 9i (Prism Black, 128 GB)  ₹13,499     4.5   \n",
       "4  realme 9i (Prism Black, 128 GB)  ₹11,499     4.5   \n",
       "\n",
       "                    rating&review_c  \\\n",
       "0  1,10,702 Ratings & 6,523 Reviews   \n",
       "1  1,10,702 Ratings & 6,523 Reviews   \n",
       "2  1,10,702 Ratings & 6,523 Reviews   \n",
       "3    25,154 Ratings & 1,503 Reviews   \n",
       "4  1,10,702 Ratings & 6,523 Reviews   \n",
       "\n",
       "                                         description  \n",
       "0  4 GB RAM | 64 GB ROM | Expandable Upto 1 TB16....  \n",
       "1  4 GB RAM | 64 GB ROM | Expandable Upto 1 TB16....  \n",
       "2  4 GB RAM | 128 GB ROM | Expandable Upto 1 TB16...  \n",
       "3  6 GB RAM | 128 GB ROM | Expandable Upto 1 TB16...  \n",
       "4  4 GB RAM | 128 GB ROM | Expandable Upto 1 TB16...  "
      ]
     },
     "execution_count": 164,
     "metadata": {},
     "output_type": "execute_result"
    }
   ],
   "source": [
    "df=pd.read_csv('Flipart_Mobiles-10-20k.csv')\n",
    "df.head()"
   ]
  },
  {
   "cell_type": "code",
   "execution_count": 165,
   "id": "a1c6fd18",
   "metadata": {},
   "outputs": [
    {
     "data": {
      "text/plain": [
       "(2088, 7)"
      ]
     },
     "execution_count": 165,
     "metadata": {},
     "output_type": "execute_result"
    }
   ],
   "source": [
    "df.shape"
   ]
  },
  {
   "cell_type": "code",
   "execution_count": 166,
   "id": "322d7f04",
   "metadata": {},
   "outputs": [
    {
     "data": {
      "text/plain": [
       "False"
      ]
     },
     "execution_count": 166,
     "metadata": {},
     "output_type": "execute_result"
    }
   ],
   "source": [
    "df.isnull().values.any()"
   ]
  },
  {
   "cell_type": "code",
   "execution_count": 167,
   "id": "6969a0bd",
   "metadata": {},
   "outputs": [
    {
     "name": "stdout",
     "output_type": "stream",
     "text": [
      "<class 'pandas.core.frame.DataFrame'>\n",
      "RangeIndex: 2088 entries, 0 to 2087\n",
      "Data columns (total 7 columns):\n",
      " #   Column           Non-Null Count  Dtype  \n",
      "---  ------           --------------  -----  \n",
      " 0   Unnamed: 0       2088 non-null   int64  \n",
      " 1   link             2088 non-null   object \n",
      " 2   name             2088 non-null   object \n",
      " 3   price            2088 non-null   object \n",
      " 4   rating           2088 non-null   float64\n",
      " 5   rating&review_c  2088 non-null   object \n",
      " 6   description      2088 non-null   object \n",
      "dtypes: float64(1), int64(1), object(5)\n",
      "memory usage: 114.3+ KB\n"
     ]
    }
   ],
   "source": [
    "df.info()"
   ]
  },
  {
   "cell_type": "code",
   "execution_count": 168,
   "id": "40bcf1c1",
   "metadata": {},
   "outputs": [
    {
     "data": {
      "text/plain": [
       "0"
      ]
     },
     "execution_count": 168,
     "metadata": {},
     "output_type": "execute_result"
    }
   ],
   "source": [
    "df.duplicated().sum()"
   ]
  },
  {
   "cell_type": "code",
   "execution_count": 169,
   "id": "784e43a2",
   "metadata": {},
   "outputs": [
    {
     "data": {
      "text/html": [
       "<div>\n",
       "<style scoped>\n",
       "    .dataframe tbody tr th:only-of-type {\n",
       "        vertical-align: middle;\n",
       "    }\n",
       "\n",
       "    .dataframe tbody tr th {\n",
       "        vertical-align: top;\n",
       "    }\n",
       "\n",
       "    .dataframe thead th {\n",
       "        text-align: right;\n",
       "    }\n",
       "</style>\n",
       "<table border=\"1\" class=\"dataframe\">\n",
       "  <thead>\n",
       "    <tr style=\"text-align: right;\">\n",
       "      <th></th>\n",
       "      <th>name</th>\n",
       "      <th>price</th>\n",
       "      <th>rating</th>\n",
       "      <th>rating&amp;review_c</th>\n",
       "      <th>description</th>\n",
       "    </tr>\n",
       "  </thead>\n",
       "  <tbody>\n",
       "    <tr>\n",
       "      <th>0</th>\n",
       "      <td>realme 9i (Prism Black, 64 GB)</td>\n",
       "      <td>₹10,499</td>\n",
       "      <td>4.5</td>\n",
       "      <td>1,10,702 Ratings &amp; 6,523 Reviews</td>\n",
       "      <td>4 GB RAM | 64 GB ROM | Expandable Upto 1 TB16....</td>\n",
       "    </tr>\n",
       "    <tr>\n",
       "      <th>1</th>\n",
       "      <td>realme 9i (Prism Blue, 64 GB)</td>\n",
       "      <td>₹10,499</td>\n",
       "      <td>4.5</td>\n",
       "      <td>1,10,702 Ratings &amp; 6,523 Reviews</td>\n",
       "      <td>4 GB RAM | 64 GB ROM | Expandable Upto 1 TB16....</td>\n",
       "    </tr>\n",
       "    <tr>\n",
       "      <th>2</th>\n",
       "      <td>realme 9i (Prism Blue, 128 GB)</td>\n",
       "      <td>₹11,499</td>\n",
       "      <td>4.5</td>\n",
       "      <td>1,10,702 Ratings &amp; 6,523 Reviews</td>\n",
       "      <td>4 GB RAM | 128 GB ROM | Expandable Upto 1 TB16...</td>\n",
       "    </tr>\n",
       "    <tr>\n",
       "      <th>3</th>\n",
       "      <td>realme 9i (Prism Black, 128 GB)</td>\n",
       "      <td>₹13,499</td>\n",
       "      <td>4.5</td>\n",
       "      <td>25,154 Ratings &amp; 1,503 Reviews</td>\n",
       "      <td>6 GB RAM | 128 GB ROM | Expandable Upto 1 TB16...</td>\n",
       "    </tr>\n",
       "    <tr>\n",
       "      <th>4</th>\n",
       "      <td>realme 9i (Prism Black, 128 GB)</td>\n",
       "      <td>₹11,499</td>\n",
       "      <td>4.5</td>\n",
       "      <td>1,10,702 Ratings &amp; 6,523 Reviews</td>\n",
       "      <td>4 GB RAM | 128 GB ROM | Expandable Upto 1 TB16...</td>\n",
       "    </tr>\n",
       "  </tbody>\n",
       "</table>\n",
       "</div>"
      ],
      "text/plain": [
       "                              name    price  rating  \\\n",
       "0   realme 9i (Prism Black, 64 GB)  ₹10,499     4.5   \n",
       "1    realme 9i (Prism Blue, 64 GB)  ₹10,499     4.5   \n",
       "2   realme 9i (Prism Blue, 128 GB)  ₹11,499     4.5   \n",
       "3  realme 9i (Prism Black, 128 GB)  ₹13,499     4.5   \n",
       "4  realme 9i (Prism Black, 128 GB)  ₹11,499     4.5   \n",
       "\n",
       "                    rating&review_c  \\\n",
       "0  1,10,702 Ratings & 6,523 Reviews   \n",
       "1  1,10,702 Ratings & 6,523 Reviews   \n",
       "2  1,10,702 Ratings & 6,523 Reviews   \n",
       "3    25,154 Ratings & 1,503 Reviews   \n",
       "4  1,10,702 Ratings & 6,523 Reviews   \n",
       "\n",
       "                                         description  \n",
       "0  4 GB RAM | 64 GB ROM | Expandable Upto 1 TB16....  \n",
       "1  4 GB RAM | 64 GB ROM | Expandable Upto 1 TB16....  \n",
       "2  4 GB RAM | 128 GB ROM | Expandable Upto 1 TB16...  \n",
       "3  6 GB RAM | 128 GB ROM | Expandable Upto 1 TB16...  \n",
       "4  4 GB RAM | 128 GB ROM | Expandable Upto 1 TB16...  "
      ]
     },
     "execution_count": 169,
     "metadata": {},
     "output_type": "execute_result"
    }
   ],
   "source": [
    "df.drop(columns=['Unnamed: 0','link'],axis=1,inplace=True)\n",
    "df.head()"
   ]
  },
  {
   "cell_type": "code",
   "execution_count": 170,
   "id": "f98aa856",
   "metadata": {},
   "outputs": [
    {
     "data": {
      "text/plain": [
       "realme 9i (Prism Blue, 128 GB)                88\n",
       "realme 9i (Prism Black, 128 GB)               88\n",
       "realme 9 (Meteor Black, 128 GB)               88\n",
       "realme 9 (Sunburst Gold, 128 GB)              88\n",
       "vivo T1 44W (Midnight Galaxy, 128 GB)         87\n",
       "vivo T1 44W (Starry Sky, 128 GB)              87\n",
       "POCO M4 Pro 5G (Cool Blue, 128 GB)            87\n",
       "realme 10 Pro 5G (Dark Matter, 128 GB)        86\n",
       "vivo T1 5G (Rainbow Fantasy, 128 GB)          68\n",
       "realme 10 Pro 5G (Hyperspace, 128 GB)         61\n",
       "realme 9i (Prism Blue, 64 GB)                 44\n",
       "SAMSUNG Galaxy F13 (Nightsky Green, 64 GB)    44\n",
       "POCO M4 Pro (Cool Blue, 128 GB)               44\n",
       "POCO M4 Pro 5G (Power Black, 64 GB)           44\n",
       "realme 9i (Prism Black, 64 GB)                44\n",
       "MOTOROLA G60 (Moonless, 128 GB)               44\n",
       "POCO M4 Pro (Power Black, 128 GB)             44\n",
       "POCO M4 Pro (Cool Blue, 64 GB)                44\n",
       "POCO M4 5G (Cool Blue, 128 GB)                44\n",
       "POCO M4 5G (Power Black, 128 GB)              44\n",
       "realme 9 (Stargaze White, 128 GB)             44\n",
       "MOTOROLA g52 (Metallic White, 128 GB)         44\n",
       "MOTOROLA g52 (Charcoal Grey, 128 GB)          44\n",
       "POCO M4 5G (Power Black, 64 GB)               43\n",
       "vivo T1X (Gravity Black, 128 GB)              43\n",
       "vivo T1X (Space Blue, 128 GB)                 43\n",
       "POCO M4 Pro 5G (Power Black, 128 GB)          43\n",
       "POCO X4 Pro 5G (Laser Black, 128 GB)          43\n",
       "POCO M4 Pro 5G (Yellow, 64 GB)                43\n",
       "MOTOROLA G62 5G (Midnight Gray, 128 GB)       43\n",
       "SAMSUNG GALAXY M13 (Midnight Blue, 64 GB)     43\n",
       "realme 10 Pro 5G (Nebula Blue, 128 GB)        43\n",
       "POCO M4 Pro 5G (Cool Blue, 64 GB)             43\n",
       "OPPO K10 (Blue Flame, 128 GB)                 43\n",
       "vivo T1X (Gravity Black, 64 GB)               43\n",
       "vivo T1X (Space Blue, 64 GB)                  43\n",
       "POCO M4 Pro (Power Black, 64 GB)              43\n",
       "POCO M4 Pro (Yellow, 128 GB)                  43\n",
       "POCO M4 Pro (Yellow, 64 GB)                   25\n",
       "REDMI Note 10T 5G (Mint Green, 128 GB)        18\n",
       "Name: name, dtype: int64"
      ]
     },
     "execution_count": 170,
     "metadata": {},
     "output_type": "execute_result"
    }
   ],
   "source": [
    "df['name'].value_counts()"
   ]
  },
  {
   "cell_type": "code",
   "execution_count": 171,
   "id": "a488003c",
   "metadata": {},
   "outputs": [
    {
     "data": {
      "text/plain": [
       "'realme 9i (Prism Black, 64 GB)'"
      ]
     },
     "execution_count": 171,
     "metadata": {},
     "output_type": "execute_result"
    }
   ],
   "source": [
    "df['name'][0]"
   ]
  },
  {
   "cell_type": "code",
   "execution_count": 172,
   "id": "20b765f3",
   "metadata": {},
   "outputs": [],
   "source": [
    "def model_stractor(text):\n",
    "    return text.split('(')[0].strip()"
   ]
  },
  {
   "cell_type": "code",
   "execution_count": 173,
   "id": "734d6c78",
   "metadata": {},
   "outputs": [],
   "source": [
    "df['model']=df['name'].apply(model_stractor)"
   ]
  },
  {
   "cell_type": "code",
   "execution_count": 174,
   "id": "0f93bac5",
   "metadata": {},
   "outputs": [
    {
     "data": {
      "text/html": [
       "<div>\n",
       "<style scoped>\n",
       "    .dataframe tbody tr th:only-of-type {\n",
       "        vertical-align: middle;\n",
       "    }\n",
       "\n",
       "    .dataframe tbody tr th {\n",
       "        vertical-align: top;\n",
       "    }\n",
       "\n",
       "    .dataframe thead th {\n",
       "        text-align: right;\n",
       "    }\n",
       "</style>\n",
       "<table border=\"1\" class=\"dataframe\">\n",
       "  <thead>\n",
       "    <tr style=\"text-align: right;\">\n",
       "      <th></th>\n",
       "      <th>name</th>\n",
       "      <th>price</th>\n",
       "      <th>rating</th>\n",
       "      <th>rating&amp;review_c</th>\n",
       "      <th>description</th>\n",
       "      <th>model</th>\n",
       "    </tr>\n",
       "  </thead>\n",
       "  <tbody>\n",
       "    <tr>\n",
       "      <th>165</th>\n",
       "      <td>POCO M4 Pro 5G (Power Black, 64 GB)</td>\n",
       "      <td>₹11,999</td>\n",
       "      <td>4.3</td>\n",
       "      <td>31,511 Ratings &amp; 2,817 Reviews</td>\n",
       "      <td>4 GB RAM | 64 GB ROM | Expandable Upto 1 TB16....</td>\n",
       "      <td>POCO M4 Pro 5G</td>\n",
       "    </tr>\n",
       "    <tr>\n",
       "      <th>549</th>\n",
       "      <td>POCO M4 Pro 5G (Power Black, 64 GB)</td>\n",
       "      <td>₹11,999</td>\n",
       "      <td>4.3</td>\n",
       "      <td>31,511 Ratings &amp; 2,817 Reviews</td>\n",
       "      <td>4 GB RAM | 64 GB ROM | Expandable Upto 1 TB16....</td>\n",
       "      <td>POCO M4 Pro 5G</td>\n",
       "    </tr>\n",
       "    <tr>\n",
       "      <th>1791</th>\n",
       "      <td>POCO M4 5G (Cool Blue, 128 GB)</td>\n",
       "      <td>₹12,999</td>\n",
       "      <td>4.1</td>\n",
       "      <td>21,399 Ratings &amp; 1,757 Reviews</td>\n",
       "      <td>6 GB RAM | 128 GB ROM | Expandable Upto 512 GB...</td>\n",
       "      <td>POCO M4 5G</td>\n",
       "    </tr>\n",
       "    <tr>\n",
       "      <th>169</th>\n",
       "      <td>realme 10 Pro 5G (Dark Matter, 128 GB)</td>\n",
       "      <td>₹19,999</td>\n",
       "      <td>4.4</td>\n",
       "      <td>614 Ratings &amp; 87 Reviews</td>\n",
       "      <td>8 GB RAM | 128 GB ROM | Expandable Upto 1 TB17...</td>\n",
       "      <td>realme 10 Pro 5G</td>\n",
       "    </tr>\n",
       "    <tr>\n",
       "      <th>275</th>\n",
       "      <td>realme 10 Pro 5G (Hyperspace, 128 GB)</td>\n",
       "      <td>₹18,999</td>\n",
       "      <td>4.4</td>\n",
       "      <td>1,246 Ratings &amp; 128 Reviews</td>\n",
       "      <td>6 GB RAM | 128 GB ROM | Expandable Upto 1 TB17...</td>\n",
       "      <td>realme 10 Pro 5G</td>\n",
       "    </tr>\n",
       "  </tbody>\n",
       "</table>\n",
       "</div>"
      ],
      "text/plain": [
       "                                        name    price  rating  \\\n",
       "165      POCO M4 Pro 5G (Power Black, 64 GB)  ₹11,999     4.3   \n",
       "549      POCO M4 Pro 5G (Power Black, 64 GB)  ₹11,999     4.3   \n",
       "1791          POCO M4 5G (Cool Blue, 128 GB)  ₹12,999     4.1   \n",
       "169   realme 10 Pro 5G (Dark Matter, 128 GB)  ₹19,999     4.4   \n",
       "275    realme 10 Pro 5G (Hyperspace, 128 GB)  ₹18,999     4.4   \n",
       "\n",
       "                     rating&review_c  \\\n",
       "165   31,511 Ratings & 2,817 Reviews   \n",
       "549   31,511 Ratings & 2,817 Reviews   \n",
       "1791  21,399 Ratings & 1,757 Reviews   \n",
       "169         614 Ratings & 87 Reviews   \n",
       "275      1,246 Ratings & 128 Reviews   \n",
       "\n",
       "                                            description             model  \n",
       "165   4 GB RAM | 64 GB ROM | Expandable Upto 1 TB16....    POCO M4 Pro 5G  \n",
       "549   4 GB RAM | 64 GB ROM | Expandable Upto 1 TB16....    POCO M4 Pro 5G  \n",
       "1791  6 GB RAM | 128 GB ROM | Expandable Upto 512 GB...        POCO M4 5G  \n",
       "169   8 GB RAM | 128 GB ROM | Expandable Upto 1 TB17...  realme 10 Pro 5G  \n",
       "275   6 GB RAM | 128 GB ROM | Expandable Upto 1 TB17...  realme 10 Pro 5G  "
      ]
     },
     "execution_count": 174,
     "metadata": {},
     "output_type": "execute_result"
    }
   ],
   "source": [
    "df.sample(5)"
   ]
  },
  {
   "cell_type": "code",
   "execution_count": 175,
   "id": "04adfbca",
   "metadata": {},
   "outputs": [
    {
     "data": {
      "text/plain": [
       "realme 9i             264\n",
       "POCO M4 Pro 5G        260\n",
       "POCO M4 Pro           243\n",
       "realme 9              220\n",
       "realme 10 Pro 5G      190\n",
       "vivo T1 44W           174\n",
       "vivo T1X              172\n",
       "POCO M4 5G            131\n",
       "MOTOROLA g52           88\n",
       "vivo T1 5G             68\n",
       "SAMSUNG Galaxy F13     44\n",
       "MOTOROLA G60           44\n",
       "SAMSUNG GALAXY M13     43\n",
       "OPPO K10               43\n",
       "MOTOROLA G62 5G        43\n",
       "POCO X4 Pro 5G         43\n",
       "REDMI Note 10T 5G      18\n",
       "Name: model, dtype: int64"
      ]
     },
     "execution_count": 175,
     "metadata": {},
     "output_type": "execute_result"
    }
   ],
   "source": [
    "df['model'].value_counts()"
   ]
  },
  {
   "cell_type": "code",
   "execution_count": 176,
   "id": "06fc05f5",
   "metadata": {},
   "outputs": [],
   "source": [
    "df['price']=df['price'].str.replace('₹','')\n",
    "df['price']=df['price'].str.replace(',','.')\n",
    "df['price']=df['price'].astype('float')"
   ]
  },
  {
   "cell_type": "code",
   "execution_count": 177,
   "id": "2350de62",
   "metadata": {},
   "outputs": [
    {
     "data": {
      "text/html": [
       "<div>\n",
       "<style scoped>\n",
       "    .dataframe tbody tr th:only-of-type {\n",
       "        vertical-align: middle;\n",
       "    }\n",
       "\n",
       "    .dataframe tbody tr th {\n",
       "        vertical-align: top;\n",
       "    }\n",
       "\n",
       "    .dataframe thead th {\n",
       "        text-align: right;\n",
       "    }\n",
       "</style>\n",
       "<table border=\"1\" class=\"dataframe\">\n",
       "  <thead>\n",
       "    <tr style=\"text-align: right;\">\n",
       "      <th></th>\n",
       "      <th>name</th>\n",
       "      <th>price</th>\n",
       "      <th>rating</th>\n",
       "      <th>rating&amp;review_c</th>\n",
       "      <th>description</th>\n",
       "      <th>model</th>\n",
       "    </tr>\n",
       "  </thead>\n",
       "  <tbody>\n",
       "    <tr>\n",
       "      <th>0</th>\n",
       "      <td>realme 9i (Prism Black, 64 GB)</td>\n",
       "      <td>10.499</td>\n",
       "      <td>4.5</td>\n",
       "      <td>1,10,702 Ratings &amp; 6,523 Reviews</td>\n",
       "      <td>4 GB RAM | 64 GB ROM | Expandable Upto 1 TB16....</td>\n",
       "      <td>realme 9i</td>\n",
       "    </tr>\n",
       "    <tr>\n",
       "      <th>1</th>\n",
       "      <td>realme 9i (Prism Blue, 64 GB)</td>\n",
       "      <td>10.499</td>\n",
       "      <td>4.5</td>\n",
       "      <td>1,10,702 Ratings &amp; 6,523 Reviews</td>\n",
       "      <td>4 GB RAM | 64 GB ROM | Expandable Upto 1 TB16....</td>\n",
       "      <td>realme 9i</td>\n",
       "    </tr>\n",
       "    <tr>\n",
       "      <th>2</th>\n",
       "      <td>realme 9i (Prism Blue, 128 GB)</td>\n",
       "      <td>11.499</td>\n",
       "      <td>4.5</td>\n",
       "      <td>1,10,702 Ratings &amp; 6,523 Reviews</td>\n",
       "      <td>4 GB RAM | 128 GB ROM | Expandable Upto 1 TB16...</td>\n",
       "      <td>realme 9i</td>\n",
       "    </tr>\n",
       "    <tr>\n",
       "      <th>3</th>\n",
       "      <td>realme 9i (Prism Black, 128 GB)</td>\n",
       "      <td>13.499</td>\n",
       "      <td>4.5</td>\n",
       "      <td>25,154 Ratings &amp; 1,503 Reviews</td>\n",
       "      <td>6 GB RAM | 128 GB ROM | Expandable Upto 1 TB16...</td>\n",
       "      <td>realme 9i</td>\n",
       "    </tr>\n",
       "    <tr>\n",
       "      <th>4</th>\n",
       "      <td>realme 9i (Prism Black, 128 GB)</td>\n",
       "      <td>11.499</td>\n",
       "      <td>4.5</td>\n",
       "      <td>1,10,702 Ratings &amp; 6,523 Reviews</td>\n",
       "      <td>4 GB RAM | 128 GB ROM | Expandable Upto 1 TB16...</td>\n",
       "      <td>realme 9i</td>\n",
       "    </tr>\n",
       "  </tbody>\n",
       "</table>\n",
       "</div>"
      ],
      "text/plain": [
       "                              name   price  rating  \\\n",
       "0   realme 9i (Prism Black, 64 GB)  10.499     4.5   \n",
       "1    realme 9i (Prism Blue, 64 GB)  10.499     4.5   \n",
       "2   realme 9i (Prism Blue, 128 GB)  11.499     4.5   \n",
       "3  realme 9i (Prism Black, 128 GB)  13.499     4.5   \n",
       "4  realme 9i (Prism Black, 128 GB)  11.499     4.5   \n",
       "\n",
       "                    rating&review_c  \\\n",
       "0  1,10,702 Ratings & 6,523 Reviews   \n",
       "1  1,10,702 Ratings & 6,523 Reviews   \n",
       "2  1,10,702 Ratings & 6,523 Reviews   \n",
       "3    25,154 Ratings & 1,503 Reviews   \n",
       "4  1,10,702 Ratings & 6,523 Reviews   \n",
       "\n",
       "                                         description      model  \n",
       "0  4 GB RAM | 64 GB ROM | Expandable Upto 1 TB16....  realme 9i  \n",
       "1  4 GB RAM | 64 GB ROM | Expandable Upto 1 TB16....  realme 9i  \n",
       "2  4 GB RAM | 128 GB ROM | Expandable Upto 1 TB16...  realme 9i  \n",
       "3  6 GB RAM | 128 GB ROM | Expandable Upto 1 TB16...  realme 9i  \n",
       "4  4 GB RAM | 128 GB ROM | Expandable Upto 1 TB16...  realme 9i  "
      ]
     },
     "execution_count": 177,
     "metadata": {},
     "output_type": "execute_result"
    }
   ],
   "source": [
    "df.head()"
   ]
  },
  {
   "cell_type": "code",
   "execution_count": 178,
   "id": "c6b236ee",
   "metadata": {},
   "outputs": [
    {
     "name": "stderr",
     "output_type": "stream",
     "text": [
      "C:\\Users\\power\\AppData\\Local\\Temp\\ipykernel_12764\\4263080889.py:2: UserWarning: \n",
      "\n",
      "`distplot` is a deprecated function and will be removed in seaborn v0.14.0.\n",
      "\n",
      "Please adapt your code to use either `displot` (a figure-level function with\n",
      "similar flexibility) or `histplot` (an axes-level function for histograms).\n",
      "\n",
      "For a guide to updating your code to use the new functions, please see\n",
      "https://gist.github.com/mwaskom/de44147ed2974457ad6372750bbe5751\n",
      "\n",
      "  sns.distplot(df['price'],color='green')\n"
     ]
    },
    {
     "data": {
      "image/png": "[encoded data removed]",
      "text/plain": [
       "<Figure size 648x504 with 1 Axes>"
      ]
     },
     "metadata": {
      "needs_background": "light"
     },
     "output_type": "display_data"
    }
   ],
   "source": [
    "plt.figure(figsize=(9,7))\n",
    "sns.distplot(df['price'],color='green')\n",
    "plt.show()"
   ]
  },
  {
   "cell_type": "code",
   "execution_count": 179,
   "id": "a96c7619",
   "metadata": {},
   "outputs": [
    {
     "data": {
      "image/png": "[encoded data removed]",
      "text/plain": [
       "<Figure size 648x504 with 1 Axes>"
      ]
     },
     "metadata": {
      "needs_background": "light"
     },
     "output_type": "display_data"
    }
   ],
   "source": [
    "plt.figure(figsize=(9,7))\n",
    "df['model'].value_counts().plot(kind='bar')\n",
    "plt.show()"
   ]
  },
  {
   "cell_type": "code",
   "execution_count": 180,
   "id": "0a3e45b4",
   "metadata": {},
   "outputs": [
    {
     "data": {
      "image/png": "[encoded data removed]",
      "text/plain": [
       "<Figure size 648x504 with 1 Axes>"
      ]
     },
     "metadata": {
      "needs_background": "light"
     },
     "output_type": "display_data"
    }
   ],
   "source": [
    "plt.figure(figsize=(9,7))\n",
    "plt.xticks(rotation=90)\n",
    "sns.barplot(data=df,x='model',y='price')\n",
    "plt.show()"
   ]
  },
  {
   "cell_type": "code",
   "execution_count": 181,
   "id": "c67d2da3",
   "metadata": {},
   "outputs": [],
   "source": [
    "def color_extractor(text):\n",
    "    return text.split('(')[1].split(',')[0].strip()"
   ]
  },
  {
   "cell_type": "code",
   "execution_count": 182,
   "id": "210bd9f3",
   "metadata": {},
   "outputs": [],
   "source": [
    "df['color']=df['name'].apply(color_extractor)"
   ]
  },
  {
   "cell_type": "code",
   "execution_count": 183,
   "id": "bd511712",
   "metadata": {},
   "outputs": [
    {
     "data": {
      "text/html": [
       "<div>\n",
       "<style scoped>\n",
       "    .dataframe tbody tr th:only-of-type {\n",
       "        vertical-align: middle;\n",
       "    }\n",
       "\n",
       "    .dataframe tbody tr th {\n",
       "        vertical-align: top;\n",
       "    }\n",
       "\n",
       "    .dataframe thead th {\n",
       "        text-align: right;\n",
       "    }\n",
       "</style>\n",
       "<table border=\"1\" class=\"dataframe\">\n",
       "  <thead>\n",
       "    <tr style=\"text-align: right;\">\n",
       "      <th></th>\n",
       "      <th>name</th>\n",
       "      <th>price</th>\n",
       "      <th>rating</th>\n",
       "      <th>rating&amp;review_c</th>\n",
       "      <th>description</th>\n",
       "      <th>model</th>\n",
       "      <th>color</th>\n",
       "    </tr>\n",
       "  </thead>\n",
       "  <tbody>\n",
       "    <tr>\n",
       "      <th>1713</th>\n",
       "      <td>REDMI Note 10T 5G (Mint Green, 128 GB)</td>\n",
       "      <td>14.999</td>\n",
       "      <td>4.2</td>\n",
       "      <td>30,384 Ratings &amp; 2,358 Reviews</td>\n",
       "      <td>6 GB RAM | 128 GB ROM16.66 cm (6.56 inch) Full...</td>\n",
       "      <td>REDMI Note 10T 5G</td>\n",
       "      <td>Mint Green</td>\n",
       "    </tr>\n",
       "    <tr>\n",
       "      <th>1464</th>\n",
       "      <td>SAMSUNG GALAXY M13 (Midnight Blue, 64 GB)</td>\n",
       "      <td>10.044</td>\n",
       "      <td>4.3</td>\n",
       "      <td>1,596 Ratings &amp; 110 Reviews</td>\n",
       "      <td>4 GB RAM | 64 GB ROM16.76 cm (6.6 inch) Displa...</td>\n",
       "      <td>SAMSUNG GALAXY M13</td>\n",
       "      <td>Midnight Blue</td>\n",
       "    </tr>\n",
       "    <tr>\n",
       "      <th>526</th>\n",
       "      <td>vivo T1X (Gravity Black, 128 GB)</td>\n",
       "      <td>12.999</td>\n",
       "      <td>4.5</td>\n",
       "      <td>64,576 Ratings &amp; 3,659 Reviews</td>\n",
       "      <td>4 GB RAM | 128 GB ROM16.71 cm (6.58 inch) Full...</td>\n",
       "      <td>vivo T1X</td>\n",
       "      <td>Gravity Black</td>\n",
       "    </tr>\n",
       "    <tr>\n",
       "      <th>219</th>\n",
       "      <td>vivo T1 44W (Midnight Galaxy, 128 GB)</td>\n",
       "      <td>15.999</td>\n",
       "      <td>4.4</td>\n",
       "      <td>41,702 Ratings &amp; 3,255 Reviews</td>\n",
       "      <td>6 GB RAM | 128 GB ROM | Expandable Upto 1 TB16...</td>\n",
       "      <td>vivo T1 44W</td>\n",
       "      <td>Midnight Galaxy</td>\n",
       "    </tr>\n",
       "    <tr>\n",
       "      <th>1270</th>\n",
       "      <td>POCO M4 Pro (Cool Blue, 128 GB)</td>\n",
       "      <td>12.999</td>\n",
       "      <td>4.3</td>\n",
       "      <td>1,24,246 Ratings &amp; 11,419 Reviews</td>\n",
       "      <td>6 GB RAM | 128 GB ROM | Expandable Upto 1 TB16...</td>\n",
       "      <td>POCO M4 Pro</td>\n",
       "      <td>Cool Blue</td>\n",
       "    </tr>\n",
       "  </tbody>\n",
       "</table>\n",
       "</div>"
      ],
      "text/plain": [
       "                                           name   price  rating  \\\n",
       "1713     REDMI Note 10T 5G (Mint Green, 128 GB)  14.999     4.2   \n",
       "1464  SAMSUNG GALAXY M13 (Midnight Blue, 64 GB)  10.044     4.3   \n",
       "526            vivo T1X (Gravity Black, 128 GB)  12.999     4.5   \n",
       "219       vivo T1 44W (Midnight Galaxy, 128 GB)  15.999     4.4   \n",
       "1270            POCO M4 Pro (Cool Blue, 128 GB)  12.999     4.3   \n",
       "\n",
       "                        rating&review_c  \\\n",
       "1713     30,384 Ratings & 2,358 Reviews   \n",
       "1464        1,596 Ratings & 110 Reviews   \n",
       "526      64,576 Ratings & 3,659 Reviews   \n",
       "219      41,702 Ratings & 3,255 Reviews   \n",
       "1270  1,24,246 Ratings & 11,419 Reviews   \n",
       "\n",
       "                                            description               model  \\\n",
       "1713  6 GB RAM | 128 GB ROM16.66 cm (6.56 inch) Full...   REDMI Note 10T 5G   \n",
       "1464  4 GB RAM | 64 GB ROM16.76 cm (6.6 inch) Displa...  SAMSUNG GALAXY M13   \n",
       "526   4 GB RAM | 128 GB ROM16.71 cm (6.58 inch) Full...            vivo T1X   \n",
       "219   6 GB RAM | 128 GB ROM | Expandable Upto 1 TB16...         vivo T1 44W   \n",
       "1270  6 GB RAM | 128 GB ROM | Expandable Upto 1 TB16...         POCO M4 Pro   \n",
       "\n",
       "                color  \n",
       "1713       Mint Green  \n",
       "1464    Midnight Blue  \n",
       "526     Gravity Black  \n",
       "219   Midnight Galaxy  \n",
       "1270        Cool Blue  "
      ]
     },
     "execution_count": 183,
     "metadata": {},
     "output_type": "execute_result"
    }
   ],
   "source": [
    "df.sample(5)"
   ]
  },
  {
   "cell_type": "code",
   "execution_count": 184,
   "id": "02a61154",
   "metadata": {},
   "outputs": [
    {
     "data": {
      "text/plain": [
       "Cool Blue          262\n",
       "Power Black        261\n",
       "Prism Black        132\n",
       "Prism Blue         132\n",
       "Yellow             111\n",
       "Meteor Black        88\n",
       "Sunburst Gold       88\n",
       "Midnight Galaxy     87\n",
       "Starry Sky          87\n",
       "Dark Matter         86\n",
       "Gravity Black       86\n",
       "Space Blue          86\n",
       "Rainbow Fantasy     68\n",
       "Hyperspace          61\n",
       "Nightsky Green      44\n",
       "Moonless            44\n",
       "Stargaze White      44\n",
       "Metallic White      44\n",
       "Charcoal Grey       44\n",
       "Midnight Blue       43\n",
       "Blue Flame          43\n",
       "Nebula Blue         43\n",
       "Midnight Gray       43\n",
       "Laser Black         43\n",
       "Mint Green          18\n",
       "Name: color, dtype: int64"
      ]
     },
     "execution_count": 184,
     "metadata": {},
     "output_type": "execute_result"
    }
   ],
   "source": [
    "df['color'].value_counts()"
   ]
  },
  {
   "cell_type": "code",
   "execution_count": 185,
   "id": "17a97e02",
   "metadata": {},
   "outputs": [
    {
     "data": {
      "image/png": "[encoded data removed]",
      "text/plain": [
       "<Figure size 648x504 with 1 Axes>"
      ]
     },
     "metadata": {
      "needs_background": "light"
     },
     "output_type": "display_data"
    }
   ],
   "source": [
    "plt.figure(figsize=(9,7))\n",
    "df['color'].value_counts().plot(kind='bar')\n",
    "plt.show()"
   ]
  },
  {
   "cell_type": "code",
   "execution_count": 186,
   "id": "644c34bb",
   "metadata": {},
   "outputs": [
    {
     "data": {
      "image/png": "[encoded data removed]",
      "text/plain": [
       "<Figure size 648x504 with 1 Axes>"
      ]
     },
     "metadata": {
      "needs_background": "light"
     },
     "output_type": "display_data"
    }
   ],
   "source": [
    "plt.figure(figsize=(9,7))\n",
    "plt.xticks(rotation=90)\n",
    "sns.barplot(data=df,x='color',y='price')\n",
    "plt.show()"
   ]
  },
  {
   "cell_type": "code",
   "execution_count": 187,
   "id": "7de3bfad",
   "metadata": {},
   "outputs": [
    {
     "data": {
      "text/html": [
       "<div>\n",
       "<style scoped>\n",
       "    .dataframe tbody tr th:only-of-type {\n",
       "        vertical-align: middle;\n",
       "    }\n",
       "\n",
       "    .dataframe tbody tr th {\n",
       "        vertical-align: top;\n",
       "    }\n",
       "\n",
       "    .dataframe thead th {\n",
       "        text-align: right;\n",
       "    }\n",
       "</style>\n",
       "<table border=\"1\" class=\"dataframe\">\n",
       "  <thead>\n",
       "    <tr style=\"text-align: right;\">\n",
       "      <th></th>\n",
       "      <th>price</th>\n",
       "      <th>description</th>\n",
       "      <th>model</th>\n",
       "      <th>color</th>\n",
       "    </tr>\n",
       "  </thead>\n",
       "  <tbody>\n",
       "    <tr>\n",
       "      <th>0</th>\n",
       "      <td>10.499</td>\n",
       "      <td>4 GB RAM | 64 GB ROM | Expandable Upto 1 TB16....</td>\n",
       "      <td>realme 9i</td>\n",
       "      <td>Prism Black</td>\n",
       "    </tr>\n",
       "    <tr>\n",
       "      <th>1</th>\n",
       "      <td>10.499</td>\n",
       "      <td>4 GB RAM | 64 GB ROM | Expandable Upto 1 TB16....</td>\n",
       "      <td>realme 9i</td>\n",
       "      <td>Prism Blue</td>\n",
       "    </tr>\n",
       "    <tr>\n",
       "      <th>2</th>\n",
       "      <td>11.499</td>\n",
       "      <td>4 GB RAM | 128 GB ROM | Expandable Upto 1 TB16...</td>\n",
       "      <td>realme 9i</td>\n",
       "      <td>Prism Blue</td>\n",
       "    </tr>\n",
       "    <tr>\n",
       "      <th>3</th>\n",
       "      <td>13.499</td>\n",
       "      <td>6 GB RAM | 128 GB ROM | Expandable Upto 1 TB16...</td>\n",
       "      <td>realme 9i</td>\n",
       "      <td>Prism Black</td>\n",
       "    </tr>\n",
       "    <tr>\n",
       "      <th>4</th>\n",
       "      <td>11.499</td>\n",
       "      <td>4 GB RAM | 128 GB ROM | Expandable Upto 1 TB16...</td>\n",
       "      <td>realme 9i</td>\n",
       "      <td>Prism Black</td>\n",
       "    </tr>\n",
       "  </tbody>\n",
       "</table>\n",
       "</div>"
      ],
      "text/plain": [
       "    price                                        description      model  \\\n",
       "0  10.499  4 GB RAM | 64 GB ROM | Expandable Upto 1 TB16....  realme 9i   \n",
       "1  10.499  4 GB RAM | 64 GB ROM | Expandable Upto 1 TB16....  realme 9i   \n",
       "2  11.499  4 GB RAM | 128 GB ROM | Expandable Upto 1 TB16...  realme 9i   \n",
       "3  13.499  6 GB RAM | 128 GB ROM | Expandable Upto 1 TB16...  realme 9i   \n",
       "4  11.499  4 GB RAM | 128 GB ROM | Expandable Upto 1 TB16...  realme 9i   \n",
       "\n",
       "         color  \n",
       "0  Prism Black  \n",
       "1   Prism Blue  \n",
       "2   Prism Blue  \n",
       "3  Prism Black  \n",
       "4  Prism Black  "
      ]
     },
     "execution_count": 187,
     "metadata": {},
     "output_type": "execute_result"
    }
   ],
   "source": [
    "df.drop(columns=['name','rating','rating&review_c'],axis='columns',inplace=True)\n",
    "df.head()"
   ]
  },
  {
   "cell_type": "code",
   "execution_count": 188,
   "id": "0dd23586",
   "metadata": {},
   "outputs": [],
   "source": [
    "def company_extractor(text):\n",
    "    if 'realme' in text:\n",
    "        return 'Realme'\n",
    "    elif 'MOTOROLA' in text:\n",
    "        return 'Lenovo'\n",
    "    elif 'POCO' in text:\n",
    "        return 'Xiaomi'\n",
    "    elif 'vivo' in text:\n",
    "        return 'BBK Electronics'\n",
    "    elif 'SAMSUNG' in text:\n",
    "        return 'Samsung'\n",
    "    elif 'OPPO' in text:\n",
    "        return 'BBK Electronics'\n",
    "    else:\n",
    "        return 'Xiaomi'"
   ]
  },
  {
   "cell_type": "code",
   "execution_count": 189,
   "id": "3067bd76",
   "metadata": {},
   "outputs": [],
   "source": [
    "df['company']=df['model'].apply(company_extractor)"
   ]
  },
  {
   "cell_type": "code",
   "execution_count": 190,
   "id": "5fbb57e4",
   "metadata": {},
   "outputs": [
    {
     "data": {
      "text/html": [
       "<div>\n",
       "<style scoped>\n",
       "    .dataframe tbody tr th:only-of-type {\n",
       "        vertical-align: middle;\n",
       "    }\n",
       "\n",
       "    .dataframe tbody tr th {\n",
       "        vertical-align: top;\n",
       "    }\n",
       "\n",
       "    .dataframe thead th {\n",
       "        text-align: right;\n",
       "    }\n",
       "</style>\n",
       "<table border=\"1\" class=\"dataframe\">\n",
       "  <thead>\n",
       "    <tr style=\"text-align: right;\">\n",
       "      <th></th>\n",
       "      <th>price</th>\n",
       "      <th>description</th>\n",
       "      <th>model</th>\n",
       "      <th>color</th>\n",
       "      <th>company</th>\n",
       "    </tr>\n",
       "  </thead>\n",
       "  <tbody>\n",
       "    <tr>\n",
       "      <th>829</th>\n",
       "      <td>13.999</td>\n",
       "      <td>6 GB RAM | 128 GB ROM | Expandable Upto 256 GB...</td>\n",
       "      <td>realme 9</td>\n",
       "      <td>Stargaze White</td>\n",
       "      <td>Realme</td>\n",
       "    </tr>\n",
       "    <tr>\n",
       "      <th>20</th>\n",
       "      <td>14.499</td>\n",
       "      <td>4 GB RAM | 128 GB ROM | Expandable Upto 1 TB16...</td>\n",
       "      <td>vivo T1 44W</td>\n",
       "      <td>Starry Sky</td>\n",
       "      <td>BBK Electronics</td>\n",
       "    </tr>\n",
       "    <tr>\n",
       "      <th>165</th>\n",
       "      <td>11.999</td>\n",
       "      <td>4 GB RAM | 64 GB ROM | Expandable Upto 1 TB16....</td>\n",
       "      <td>POCO M4 Pro 5G</td>\n",
       "      <td>Power Black</td>\n",
       "      <td>Xiaomi</td>\n",
       "    </tr>\n",
       "    <tr>\n",
       "      <th>679</th>\n",
       "      <td>13.999</td>\n",
       "      <td>6 GB RAM | 128 GB ROM | Expandable Upto 256 GB...</td>\n",
       "      <td>realme 9</td>\n",
       "      <td>Sunburst Gold</td>\n",
       "      <td>Realme</td>\n",
       "    </tr>\n",
       "    <tr>\n",
       "      <th>329</th>\n",
       "      <td>11.999</td>\n",
       "      <td>4 GB RAM | 64 GB ROM | Expandable Upto 1 TB16....</td>\n",
       "      <td>POCO M4 Pro 5G</td>\n",
       "      <td>Yellow</td>\n",
       "      <td>Xiaomi</td>\n",
       "    </tr>\n",
       "  </tbody>\n",
       "</table>\n",
       "</div>"
      ],
      "text/plain": [
       "      price                                        description  \\\n",
       "829  13.999  6 GB RAM | 128 GB ROM | Expandable Upto 256 GB...   \n",
       "20   14.499  4 GB RAM | 128 GB ROM | Expandable Upto 1 TB16...   \n",
       "165  11.999  4 GB RAM | 64 GB ROM | Expandable Upto 1 TB16....   \n",
       "679  13.999  6 GB RAM | 128 GB ROM | Expandable Upto 256 GB...   \n",
       "329  11.999  4 GB RAM | 64 GB ROM | Expandable Upto 1 TB16....   \n",
       "\n",
       "              model           color          company  \n",
       "829        realme 9  Stargaze White           Realme  \n",
       "20      vivo T1 44W      Starry Sky  BBK Electronics  \n",
       "165  POCO M4 Pro 5G     Power Black           Xiaomi  \n",
       "679        realme 9   Sunburst Gold           Realme  \n",
       "329  POCO M4 Pro 5G          Yellow           Xiaomi  "
      ]
     },
     "execution_count": 190,
     "metadata": {},
     "output_type": "execute_result"
    }
   ],
   "source": [
    "df.sample(5)"
   ]
  },
  {
   "cell_type": "code",
   "execution_count": 191,
   "id": "c697b6df",
   "metadata": {},
   "outputs": [
    {
     "data": {
      "text/plain": [
       "Xiaomi             695\n",
       "Realme             674\n",
       "BBK Electronics    457\n",
       "Lenovo             175\n",
       "Samsung             87\n",
       "Name: company, dtype: int64"
      ]
     },
     "execution_count": 191,
     "metadata": {},
     "output_type": "execute_result"
    }
   ],
   "source": [
    "df['company'].value_counts()"
   ]
  },
  {
   "cell_type": "code",
   "execution_count": 192,
   "id": "24006acc",
   "metadata": {},
   "outputs": [
    {
     "data": {
      "image/png": "[encoded data removed]",
      "text/plain": [
       "<Figure size 648x504 with 1 Axes>"
      ]
     },
     "metadata": {
      "needs_background": "light"
     },
     "output_type": "display_data"
    }
   ],
   "source": [
    "plt.figure(figsize=(9,7))\n",
    "df['company'].value_counts().plot(kind='bar')\n",
    "plt.show()"
   ]
  },
  {
   "cell_type": "code",
   "execution_count": 193,
   "id": "f39263ad",
   "metadata": {},
   "outputs": [
    {
     "data": {
      "image/png": "[encoded data removed]",
      "text/plain": [
       "<Figure size 648x504 with 1 Axes>"
      ]
     },
     "metadata": {
      "needs_background": "light"
     },
     "output_type": "display_data"
    }
   ],
   "source": [
    "plt.figure(figsize=(9,7))\n",
    "sns.barplot(data=df,x='company',y='price')\n",
    "plt.show()"
   ]
  },
  {
   "cell_type": "code",
   "execution_count": 194,
   "id": "fbc206ba",
   "metadata": {},
   "outputs": [
    {
     "data": {
      "text/plain": [
       "'4 GB RAM | 64 GB ROM | Expandable Upto 1 TB16.76 cm (6.6 inch) Full HD+ Display50MP + 2MP + 2MP | 16MP Front Camera5000 mAh Lithium ion BatteryQualcomm Snapdragon 680 (SM6225) Processor1 Year Manufacturer Warranty for Phone and 6 Months Warranty for in the Box Accessories'"
      ]
     },
     "execution_count": 194,
     "metadata": {},
     "output_type": "execute_result"
    }
   ],
   "source": [
    "df['description'][0]"
   ]
  },
  {
   "cell_type": "code",
   "execution_count": 195,
   "id": "98a311de",
   "metadata": {},
   "outputs": [
    {
     "data": {
      "text/plain": [
       "'4'"
      ]
     },
     "execution_count": 195,
     "metadata": {},
     "output_type": "execute_result"
    }
   ],
   "source": [
    "df['description'][0].split()[0].strip()"
   ]
  },
  {
   "cell_type": "code",
   "execution_count": 196,
   "id": "9767e6b7",
   "metadata": {},
   "outputs": [],
   "source": [
    "def RAM_stractor(text):\n",
    "    return text.split()[0].strip()"
   ]
  },
  {
   "cell_type": "code",
   "execution_count": 197,
   "id": "6b743f8a",
   "metadata": {},
   "outputs": [],
   "source": [
    "df['RAM']=df['description'].apply(RAM_stractor)"
   ]
  },
  {
   "cell_type": "code",
   "execution_count": 198,
   "id": "9ada4a9d",
   "metadata": {},
   "outputs": [
    {
     "data": {
      "text/html": [
       "<div>\n",
       "<style scoped>\n",
       "    .dataframe tbody tr th:only-of-type {\n",
       "        vertical-align: middle;\n",
       "    }\n",
       "\n",
       "    .dataframe tbody tr th {\n",
       "        vertical-align: top;\n",
       "    }\n",
       "\n",
       "    .dataframe thead th {\n",
       "        text-align: right;\n",
       "    }\n",
       "</style>\n",
       "<table border=\"1\" class=\"dataframe\">\n",
       "  <thead>\n",
       "    <tr style=\"text-align: right;\">\n",
       "      <th></th>\n",
       "      <th>price</th>\n",
       "      <th>description</th>\n",
       "      <th>model</th>\n",
       "      <th>color</th>\n",
       "      <th>company</th>\n",
       "      <th>RAM</th>\n",
       "    </tr>\n",
       "  </thead>\n",
       "  <tbody>\n",
       "    <tr>\n",
       "      <th>346</th>\n",
       "      <td>13.999</td>\n",
       "      <td>6 GB RAM | 128 GB ROM | Expandable Upto 1 TB16...</td>\n",
       "      <td>POCO M4 Pro 5G</td>\n",
       "      <td>Cool Blue</td>\n",
       "      <td>Xiaomi</td>\n",
       "      <td>6</td>\n",
       "    </tr>\n",
       "    <tr>\n",
       "      <th>1156</th>\n",
       "      <td>11.499</td>\n",
       "      <td>4 GB RAM | 128 GB ROM | Expandable Upto 1 TB16...</td>\n",
       "      <td>realme 9i</td>\n",
       "      <td>Prism Black</td>\n",
       "      <td>Realme</td>\n",
       "      <td>4</td>\n",
       "    </tr>\n",
       "    <tr>\n",
       "      <th>1145</th>\n",
       "      <td>11.999</td>\n",
       "      <td>4 GB RAM | 64 GB ROM | Expandable Upto 1 TB16....</td>\n",
       "      <td>POCO M4 Pro 5G</td>\n",
       "      <td>Yellow</td>\n",
       "      <td>Xiaomi</td>\n",
       "      <td>4</td>\n",
       "    </tr>\n",
       "    <tr>\n",
       "      <th>988</th>\n",
       "      <td>11.999</td>\n",
       "      <td>6 GB RAM | 64 GB ROM | Expandable Upto 1 TB16....</td>\n",
       "      <td>POCO M4 Pro</td>\n",
       "      <td>Power Black</td>\n",
       "      <td>Xiaomi</td>\n",
       "      <td>6</td>\n",
       "    </tr>\n",
       "    <tr>\n",
       "      <th>533</th>\n",
       "      <td>13.499</td>\n",
       "      <td>6 GB RAM | 128 GB ROM | Expandable Upto 1 TB16...</td>\n",
       "      <td>realme 9i</td>\n",
       "      <td>Prism Blue</td>\n",
       "      <td>Realme</td>\n",
       "      <td>6</td>\n",
       "    </tr>\n",
       "  </tbody>\n",
       "</table>\n",
       "</div>"
      ],
      "text/plain": [
       "       price                                        description  \\\n",
       "346   13.999  6 GB RAM | 128 GB ROM | Expandable Upto 1 TB16...   \n",
       "1156  11.499  4 GB RAM | 128 GB ROM | Expandable Upto 1 TB16...   \n",
       "1145  11.999  4 GB RAM | 64 GB ROM | Expandable Upto 1 TB16....   \n",
       "988   11.999  6 GB RAM | 64 GB ROM | Expandable Upto 1 TB16....   \n",
       "533   13.499  6 GB RAM | 128 GB ROM | Expandable Upto 1 TB16...   \n",
       "\n",
       "               model        color company RAM  \n",
       "346   POCO M4 Pro 5G    Cool Blue  Xiaomi   6  \n",
       "1156       realme 9i  Prism Black  Realme   4  \n",
       "1145  POCO M4 Pro 5G       Yellow  Xiaomi   4  \n",
       "988      POCO M4 Pro  Power Black  Xiaomi   6  \n",
       "533        realme 9i   Prism Blue  Realme   6  "
      ]
     },
     "execution_count": 198,
     "metadata": {},
     "output_type": "execute_result"
    }
   ],
   "source": [
    "df.sample(5)"
   ]
  },
  {
   "cell_type": "code",
   "execution_count": 199,
   "id": "4e5312ca",
   "metadata": {},
   "outputs": [
    {
     "data": {
      "text/plain": [
       "dtype('O')"
      ]
     },
     "execution_count": 199,
     "metadata": {},
     "output_type": "execute_result"
    }
   ],
   "source": [
    "df['RAM'].dtypes"
   ]
  },
  {
   "cell_type": "code",
   "execution_count": 200,
   "id": "b846e730",
   "metadata": {},
   "outputs": [],
   "source": [
    "df['RAM']=df['RAM'].astype('int')"
   ]
  },
  {
   "cell_type": "code",
   "execution_count": 201,
   "id": "531eb223",
   "metadata": {},
   "outputs": [
    {
     "data": {
      "text/plain": [
       "dtype('int32')"
      ]
     },
     "execution_count": 201,
     "metadata": {},
     "output_type": "execute_result"
    }
   ],
   "source": [
    "df['RAM'].dtypes"
   ]
  },
  {
   "cell_type": "code",
   "execution_count": 202,
   "id": "ec1fd978",
   "metadata": {},
   "outputs": [
    {
     "data": {
      "text/plain": [
       "6    1064\n",
       "4     721\n",
       "8     303\n",
       "Name: RAM, dtype: int64"
      ]
     },
     "execution_count": 202,
     "metadata": {},
     "output_type": "execute_result"
    }
   ],
   "source": [
    "df['RAM'].value_counts()"
   ]
  },
  {
   "cell_type": "code",
   "execution_count": 203,
   "id": "fe4f0b78",
   "metadata": {},
   "outputs": [
    {
     "data": {
      "image/png": "[encoded data removed]",
      "text/plain": [
       "<Figure size 648x504 with 1 Axes>"
      ]
     },
     "metadata": {
      "needs_background": "light"
     },
     "output_type": "display_data"
    }
   ],
   "source": [
    "plt.figure(figsize=(9,7))\n",
    "df['RAM'].value_counts().plot(kind='bar')\n",
    "plt.show()"
   ]
  },
  {
   "cell_type": "code",
   "execution_count": 204,
   "id": "0000771e",
   "metadata": {},
   "outputs": [
    {
     "data": {
      "image/png": "[encoded data removed]",
      "text/plain": [
       "<Figure size 648x504 with 1 Axes>"
      ]
     },
     "metadata": {
      "needs_background": "light"
     },
     "output_type": "display_data"
    }
   ],
   "source": [
    "plt.figure(figsize=(9,7))\n",
    "sns.barplot(data=df,x='RAM',y='price')\n",
    "plt.show()"
   ]
  },
  {
   "cell_type": "code",
   "execution_count": 205,
   "id": "15c14780",
   "metadata": {},
   "outputs": [
    {
     "name": "stderr",
     "output_type": "stream",
     "text": [
      "C:\\Users\\power\\AppData\\Local\\Temp\\ipykernel_12764\\2869720011.py:2: UserWarning: \n",
      "\n",
      "`distplot` is a deprecated function and will be removed in seaborn v0.14.0.\n",
      "\n",
      "Please adapt your code to use either `displot` (a figure-level function with\n",
      "similar flexibility) or `histplot` (an axes-level function for histograms).\n",
      "\n",
      "For a guide to updating your code to use the new functions, please see\n",
      "https://gist.github.com/mwaskom/de44147ed2974457ad6372750bbe5751\n",
      "\n",
      "  sns.distplot(df['RAM'],color='green')\n"
     ]
    },
    {
     "data": {
      "image/png": "[encoded data removed]",
      "text/plain": [
       "<Figure size 648x504 with 1 Axes>"
      ]
     },
     "metadata": {
      "needs_background": "light"
     },
     "output_type": "display_data"
    }
   ],
   "source": [
    "plt.figure(figsize=(9,7))\n",
    "sns.distplot(df['RAM'],color='green')\n",
    "plt.show()"
   ]
  },
  {
   "cell_type": "code",
   "execution_count": 206,
   "id": "601f3574",
   "metadata": {},
   "outputs": [
    {
     "data": {
      "text/plain": [
       "'64'"
      ]
     },
     "execution_count": 206,
     "metadata": {},
     "output_type": "execute_result"
    }
   ],
   "source": [
    "df['description'][0].split('|')[1].replace('GB ROM','').strip()"
   ]
  },
  {
   "cell_type": "code",
   "execution_count": 207,
   "id": "faee9ccf",
   "metadata": {},
   "outputs": [],
   "source": [
    "def ROM_extractor(text):\n",
    "        return text.split('|')[1].replace('GB ROM','').strip()"
   ]
  },
  {
   "cell_type": "code",
   "execution_count": 208,
   "id": "17dc100b",
   "metadata": {},
   "outputs": [],
   "source": [
    "df['ROM']=df['description'].apply(ROM_extractor)"
   ]
  },
  {
   "cell_type": "code",
   "execution_count": 209,
   "id": "2c1a737d",
   "metadata": {},
   "outputs": [
    {
     "data": {
      "text/html": [
       "<div>\n",
       "<style scoped>\n",
       "    .dataframe tbody tr th:only-of-type {\n",
       "        vertical-align: middle;\n",
       "    }\n",
       "\n",
       "    .dataframe tbody tr th {\n",
       "        vertical-align: top;\n",
       "    }\n",
       "\n",
       "    .dataframe thead th {\n",
       "        text-align: right;\n",
       "    }\n",
       "</style>\n",
       "<table border=\"1\" class=\"dataframe\">\n",
       "  <thead>\n",
       "    <tr style=\"text-align: right;\">\n",
       "      <th></th>\n",
       "      <th>price</th>\n",
       "      <th>description</th>\n",
       "      <th>model</th>\n",
       "      <th>color</th>\n",
       "      <th>company</th>\n",
       "      <th>RAM</th>\n",
       "      <th>ROM</th>\n",
       "    </tr>\n",
       "  </thead>\n",
       "  <tbody>\n",
       "    <tr>\n",
       "      <th>1131</th>\n",
       "      <td>15.999</td>\n",
       "      <td>6 GB RAM | 128 GB ROM | Expandable Upto 1 TB16...</td>\n",
       "      <td>vivo T1 44W</td>\n",
       "      <td>Midnight Galaxy</td>\n",
       "      <td>BBK Electronics</td>\n",
       "      <td>6</td>\n",
       "      <td>128</td>\n",
       "    </tr>\n",
       "    <tr>\n",
       "      <th>92</th>\n",
       "      <td>12.999</td>\n",
       "      <td>4 GB RAM | 128 GB ROM16.71 cm (6.58 inch) Full...</td>\n",
       "      <td>vivo T1X</td>\n",
       "      <td>Gravity Black</td>\n",
       "      <td>BBK Electronics</td>\n",
       "      <td>4</td>\n",
       "      <td>128 16.71 cm (6.58 inch) Full HD+ Display50MP ...</td>\n",
       "    </tr>\n",
       "    <tr>\n",
       "      <th>1179</th>\n",
       "      <td>15.999</td>\n",
       "      <td>6 GB RAM | 128 GB ROM | Expandable Upto 1 TB16...</td>\n",
       "      <td>vivo T1 44W</td>\n",
       "      <td>Midnight Galaxy</td>\n",
       "      <td>BBK Electronics</td>\n",
       "      <td>6</td>\n",
       "      <td>128</td>\n",
       "    </tr>\n",
       "    <tr>\n",
       "      <th>1398</th>\n",
       "      <td>12.999</td>\n",
       "      <td>6 GB RAM | 128 GB ROM16.76 cm (6.6 inch) Full ...</td>\n",
       "      <td>MOTOROLA g52</td>\n",
       "      <td>Charcoal Grey</td>\n",
       "      <td>Lenovo</td>\n",
       "      <td>6</td>\n",
       "      <td>128 16.76 cm (6.6 inch) Full HD+ Display50MP +...</td>\n",
       "    </tr>\n",
       "    <tr>\n",
       "      <th>1687</th>\n",
       "      <td>13.999</td>\n",
       "      <td>6 GB RAM | 128 GB ROM | Expandable Upto 256 GB...</td>\n",
       "      <td>realme 9</td>\n",
       "      <td>Meteor Black</td>\n",
       "      <td>Realme</td>\n",
       "      <td>6</td>\n",
       "      <td>128</td>\n",
       "    </tr>\n",
       "  </tbody>\n",
       "</table>\n",
       "</div>"
      ],
      "text/plain": [
       "       price                                        description         model  \\\n",
       "1131  15.999  6 GB RAM | 128 GB ROM | Expandable Upto 1 TB16...   vivo T1 44W   \n",
       "92    12.999  4 GB RAM | 128 GB ROM16.71 cm (6.58 inch) Full...      vivo T1X   \n",
       "1179  15.999  6 GB RAM | 128 GB ROM | Expandable Upto 1 TB16...   vivo T1 44W   \n",
       "1398  12.999  6 GB RAM | 128 GB ROM16.76 cm (6.6 inch) Full ...  MOTOROLA g52   \n",
       "1687  13.999  6 GB RAM | 128 GB ROM | Expandable Upto 256 GB...      realme 9   \n",
       "\n",
       "                color          company  RAM  \\\n",
       "1131  Midnight Galaxy  BBK Electronics    6   \n",
       "92      Gravity Black  BBK Electronics    4   \n",
       "1179  Midnight Galaxy  BBK Electronics    6   \n",
       "1398    Charcoal Grey           Lenovo    6   \n",
       "1687     Meteor Black           Realme    6   \n",
       "\n",
       "                                                    ROM  \n",
       "1131                                                128  \n",
       "92    128 16.71 cm (6.58 inch) Full HD+ Display50MP ...  \n",
       "1179                                                128  \n",
       "1398  128 16.76 cm (6.6 inch) Full HD+ Display50MP +...  \n",
       "1687                                                128  "
      ]
     },
     "execution_count": 209,
     "metadata": {},
     "output_type": "execute_result"
    }
   ],
   "source": [
    "df.sample(5)"
   ]
  },
  {
   "cell_type": "code",
   "execution_count": 210,
   "id": "cdc45c33",
   "metadata": {},
   "outputs": [
    {
     "data": {
      "text/plain": [
       "128                                                                                                 1263\n",
       "64                                                                                                   417\n",
       "128 16.76 cm (6.6 inch) Full HD+ Display50MP + 8MP + 2MP                                              88\n",
       "64 16.71 cm (6.58 inch) Full HD+ Display50MP + 2MP                                                    86\n",
       "128 16.71 cm (6.58 inch) Full HD+ Display50MP + 2MP                                                   86\n",
       "128 17.22 cm (6.78 inch) Full HD+ Display108MP + 8MP + 2MP                                            44\n",
       "64 16.76 cm (6.6 inch) Display50MP Rear Camera6000 mAh Battery12 MONTHS                               43\n",
       "128 16.64 cm (6.55 inch) Full HD+ Display50MP + 8MP + 2MP                                             43\n",
       "128 16.66 cm (6.56 inch) Full HD+ Display48MP Primary Camera + 2MP Macro Lens + 2MP Depth Sensor      18\n",
       "Name: ROM, dtype: int64"
      ]
     },
     "execution_count": 210,
     "metadata": {},
     "output_type": "execute_result"
    }
   ],
   "source": [
    "df['ROM'].value_counts()"
   ]
  },
  {
   "cell_type": "code",
   "execution_count": 211,
   "id": "8189fe02",
   "metadata": {},
   "outputs": [],
   "source": [
    "def ROM_extractor2(text):\n",
    "    if len(text)>3:\n",
    "        return text.split()[0].strip()\n",
    "    else:\n",
    "        return text"
   ]
  },
  {
   "cell_type": "code",
   "execution_count": 212,
   "id": "1a39cb64",
   "metadata": {},
   "outputs": [],
   "source": [
    "df['ROM']=df['ROM'].apply(ROM_extractor2)"
   ]
  },
  {
   "cell_type": "code",
   "execution_count": 213,
   "id": "0bb34e1e",
   "metadata": {},
   "outputs": [
    {
     "data": {
      "text/plain": [
       "128    1542\n",
       "64      546\n",
       "Name: ROM, dtype: int64"
      ]
     },
     "execution_count": 213,
     "metadata": {},
     "output_type": "execute_result"
    }
   ],
   "source": [
    "df['ROM'].value_counts()"
   ]
  },
  {
   "cell_type": "code",
   "execution_count": 214,
   "id": "9c33981a",
   "metadata": {},
   "outputs": [
    {
     "data": {
      "text/plain": [
       "dtype('int32')"
      ]
     },
     "execution_count": 214,
     "metadata": {},
     "output_type": "execute_result"
    }
   ],
   "source": [
    "df['ROM']=df['ROM'].astype('int')\n",
    "df['ROM'].dtypes"
   ]
  },
  {
   "cell_type": "code",
   "execution_count": 215,
   "id": "22c75ba7",
   "metadata": {},
   "outputs": [
    {
     "data": {
      "image/png": "[encoded data removed]",
      "text/plain": [
       "<Figure size 648x504 with 1 Axes>"
      ]
     },
     "metadata": {
      "needs_background": "light"
     },
     "output_type": "display_data"
    }
   ],
   "source": [
    "plt.figure(figsize=(9,7))\n",
    "df['ROM'].value_counts().plot(kind='bar')\n",
    "plt.show()"
   ]
  },
  {
   "cell_type": "code",
   "execution_count": 216,
   "id": "4bcb2a06",
   "metadata": {},
   "outputs": [
    {
     "data": {
      "image/png": "[encoded data removed]",
      "text/plain": [
       "<Figure size 648x504 with 1 Axes>"
      ]
     },
     "metadata": {
      "needs_background": "light"
     },
     "output_type": "display_data"
    }
   ],
   "source": [
    "plt.figure(figsize=(9,7))\n",
    "sns.barplot(data=df,x='ROM',y='price')\n",
    "plt.show()"
   ]
  },
  {
   "cell_type": "code",
   "execution_count": 217,
   "id": "de623ba9",
   "metadata": {},
   "outputs": [
    {
     "data": {
      "text/plain": [
       "'4 GB RAM | 64 GB ROM | Expandable Upto 1 TB16.76 cm (6.6 inch) Full HD+ Display50MP + 2MP + 2MP | 16MP Front Camera5000 mAh Lithium ion BatteryQualcomm Snapdragon 680 (SM6225) Processor1 Year Manufacturer Warranty for Phone and 6 Months Warranty for in the Box Accessories'"
      ]
     },
     "execution_count": 217,
     "metadata": {},
     "output_type": "execute_result"
    }
   ],
   "source": [
    "df['description'][0]"
   ]
  },
  {
   "cell_type": "code",
   "execution_count": 218,
   "id": "4d78bd55",
   "metadata": {},
   "outputs": [
    {
     "data": {
      "text/plain": [
       "'50'"
      ]
     },
     "execution_count": 218,
     "metadata": {},
     "output_type": "execute_result"
    }
   ],
   "source": [
    "df['description'][0].split('Display')[1].split('+')[0].replace('MP','').strip()"
   ]
  },
  {
   "cell_type": "code",
   "execution_count": 219,
   "id": "1d80f85b",
   "metadata": {},
   "outputs": [],
   "source": [
    "def first_camera_extractor(text):\n",
    "    return text.split('Display')[1].split('+')[0].replace('MP','').strip()"
   ]
  },
  {
   "cell_type": "code",
   "execution_count": 220,
   "id": "49e876cb",
   "metadata": {},
   "outputs": [],
   "source": [
    "df['first camera']=df['description'].apply(first_camera_extractor)"
   ]
  },
  {
   "cell_type": "code",
   "execution_count": 221,
   "id": "1e2c6397",
   "metadata": {},
   "outputs": [
    {
     "data": {
      "text/html": [
       "<div>\n",
       "<style scoped>\n",
       "    .dataframe tbody tr th:only-of-type {\n",
       "        vertical-align: middle;\n",
       "    }\n",
       "\n",
       "    .dataframe tbody tr th {\n",
       "        vertical-align: top;\n",
       "    }\n",
       "\n",
       "    .dataframe thead th {\n",
       "        text-align: right;\n",
       "    }\n",
       "</style>\n",
       "<table border=\"1\" class=\"dataframe\">\n",
       "  <thead>\n",
       "    <tr style=\"text-align: right;\">\n",
       "      <th></th>\n",
       "      <th>price</th>\n",
       "      <th>description</th>\n",
       "      <th>model</th>\n",
       "      <th>color</th>\n",
       "      <th>company</th>\n",
       "      <th>RAM</th>\n",
       "      <th>ROM</th>\n",
       "      <th>first camera</th>\n",
       "    </tr>\n",
       "  </thead>\n",
       "  <tbody>\n",
       "    <tr>\n",
       "      <th>1617</th>\n",
       "      <td>11.999</td>\n",
       "      <td>4 GB RAM | 64 GB ROM | Expandable Upto 1 TB16....</td>\n",
       "      <td>POCO M4 Pro 5G</td>\n",
       "      <td>Cool Blue</td>\n",
       "      <td>Xiaomi</td>\n",
       "      <td>4</td>\n",
       "      <td>64</td>\n",
       "      <td>50</td>\n",
       "    </tr>\n",
       "    <tr>\n",
       "      <th>1641</th>\n",
       "      <td>12.999</td>\n",
       "      <td>6 GB RAM | 128 GB ROM16.76 cm (6.6 inch) Full ...</td>\n",
       "      <td>MOTOROLA g52</td>\n",
       "      <td>Metallic White</td>\n",
       "      <td>Lenovo</td>\n",
       "      <td>6</td>\n",
       "      <td>128</td>\n",
       "      <td>50</td>\n",
       "    </tr>\n",
       "    <tr>\n",
       "      <th>2068</th>\n",
       "      <td>11.499</td>\n",
       "      <td>4 GB RAM | 128 GB ROM | Expandable Upto 1 TB16...</td>\n",
       "      <td>realme 9i</td>\n",
       "      <td>Prism Black</td>\n",
       "      <td>Realme</td>\n",
       "      <td>4</td>\n",
       "      <td>128</td>\n",
       "      <td>50</td>\n",
       "    </tr>\n",
       "    <tr>\n",
       "      <th>337</th>\n",
       "      <td>10.499</td>\n",
       "      <td>4 GB RAM | 64 GB ROM | Expandable Upto 1 TB16....</td>\n",
       "      <td>realme 9i</td>\n",
       "      <td>Prism Blue</td>\n",
       "      <td>Realme</td>\n",
       "      <td>4</td>\n",
       "      <td>64</td>\n",
       "      <td>50</td>\n",
       "    </tr>\n",
       "    <tr>\n",
       "      <th>279</th>\n",
       "      <td>10.999</td>\n",
       "      <td>4 GB RAM | 64 GB ROM | Expandable Upto 512 GB1...</td>\n",
       "      <td>POCO M4 5G</td>\n",
       "      <td>Power Black</td>\n",
       "      <td>Xiaomi</td>\n",
       "      <td>4</td>\n",
       "      <td>64</td>\n",
       "      <td>50</td>\n",
       "    </tr>\n",
       "  </tbody>\n",
       "</table>\n",
       "</div>"
      ],
      "text/plain": [
       "       price                                        description  \\\n",
       "1617  11.999  4 GB RAM | 64 GB ROM | Expandable Upto 1 TB16....   \n",
       "1641  12.999  6 GB RAM | 128 GB ROM16.76 cm (6.6 inch) Full ...   \n",
       "2068  11.499  4 GB RAM | 128 GB ROM | Expandable Upto 1 TB16...   \n",
       "337   10.499  4 GB RAM | 64 GB ROM | Expandable Upto 1 TB16....   \n",
       "279   10.999  4 GB RAM | 64 GB ROM | Expandable Upto 512 GB1...   \n",
       "\n",
       "               model           color company  RAM  ROM first camera  \n",
       "1617  POCO M4 Pro 5G       Cool Blue  Xiaomi    4   64           50  \n",
       "1641    MOTOROLA g52  Metallic White  Lenovo    6  128           50  \n",
       "2068       realme 9i     Prism Black  Realme    4  128           50  \n",
       "337        realme 9i      Prism Blue  Realme    4   64           50  \n",
       "279       POCO M4 5G     Power Black  Xiaomi    4   64           50  "
      ]
     },
     "execution_count": 221,
     "metadata": {},
     "output_type": "execute_result"
    }
   ],
   "source": [
    "df.sample(5)"
   ]
  },
  {
   "cell_type": "code",
   "execution_count": 222,
   "id": "6d6ad939",
   "metadata": {},
   "outputs": [
    {
     "data": {
      "text/plain": [
       "dtype('O')"
      ]
     },
     "execution_count": 222,
     "metadata": {},
     "output_type": "execute_result"
    }
   ],
   "source": [
    "df['first camera'].dtypes"
   ]
  },
  {
   "cell_type": "code",
   "execution_count": 223,
   "id": "754e2c3f",
   "metadata": {},
   "outputs": [
    {
     "data": {
      "text/plain": [
       "50                                         1287\n",
       "108                                         454\n",
       "64                                          286\n",
       "50 Rear Camera6000 mAh Battery12 MONTHS      43\n",
       "48 Primary Camera                            18\n",
       "Name: first camera, dtype: int64"
      ]
     },
     "execution_count": 223,
     "metadata": {},
     "output_type": "execute_result"
    }
   ],
   "source": [
    "df['first camera'].value_counts()"
   ]
  },
  {
   "cell_type": "code",
   "execution_count": 224,
   "id": "5d833b1e",
   "metadata": {},
   "outputs": [],
   "source": [
    "def first_camera_extractor2(text):\n",
    "    if len(text)>3:\n",
    "        return text.split()[0].strip()\n",
    "    else:\n",
    "        return text"
   ]
  },
  {
   "cell_type": "code",
   "execution_count": 225,
   "id": "e88ac111",
   "metadata": {},
   "outputs": [],
   "source": [
    "df['first camera']=df['first camera'].apply(first_camera_extractor2)"
   ]
  },
  {
   "cell_type": "code",
   "execution_count": 226,
   "id": "aff293b9",
   "metadata": {},
   "outputs": [],
   "source": [
    "df['first camera']=df['first camera'].astype('int')"
   ]
  },
  {
   "cell_type": "code",
   "execution_count": 227,
   "id": "530e31a5",
   "metadata": {},
   "outputs": [
    {
     "data": {
      "text/plain": [
       "50     1330\n",
       "108     454\n",
       "64      286\n",
       "48       18\n",
       "Name: first camera, dtype: int64"
      ]
     },
     "execution_count": 227,
     "metadata": {},
     "output_type": "execute_result"
    }
   ],
   "source": [
    "df['first camera'].value_counts()"
   ]
  },
  {
   "cell_type": "code",
   "execution_count": 228,
   "id": "886117c0",
   "metadata": {},
   "outputs": [
    {
     "data": {
      "image/png": "[encoded data removed]",
      "text/plain": [
       "<Figure size 648x504 with 1 Axes>"
      ]
     },
     "metadata": {
      "needs_background": "light"
     },
     "output_type": "display_data"
    }
   ],
   "source": [
    "plt.figure(figsize=(9,7))\n",
    "df['first camera'].value_counts().plot(kind='bar')\n",
    "plt.show()"
   ]
  },
  {
   "cell_type": "code",
   "execution_count": 229,
   "id": "e5c0c60f",
   "metadata": {},
   "outputs": [
    {
     "data": {
      "image/png": "[encoded data removed]",
      "text/plain": [
       "<Figure size 648x504 with 1 Axes>"
      ]
     },
     "metadata": {
      "needs_background": "light"
     },
     "output_type": "display_data"
    }
   ],
   "source": [
    "plt.figure(figsize=(9,7))\n",
    "sns.barplot(data=df,x='first camera',y='price')\n",
    "plt.show()"
   ]
  },
  {
   "cell_type": "code",
   "execution_count": 230,
   "id": "1df678bc",
   "metadata": {},
   "outputs": [
    {
     "data": {
      "text/plain": [
       "'4 GB RAM | 64 GB ROM | Expandable Upto 1 TB16.76 cm (6.6 inch) Full HD+ Display50MP + 2MP + 2MP | 16MP Front Camera5000 mAh Lithium ion BatteryQualcomm Snapdragon 680 (SM6225) Processor1 Year Manufacturer Warranty for Phone and 6 Months Warranty for in the Box Accessories'"
      ]
     },
     "execution_count": 230,
     "metadata": {},
     "output_type": "execute_result"
    }
   ],
   "source": [
    "df['description'][0]"
   ]
  },
  {
   "cell_type": "code",
   "execution_count": 231,
   "id": "c40b39de",
   "metadata": {},
   "outputs": [
    {
     "data": {
      "text/plain": [
       "'16'"
      ]
     },
     "execution_count": 231,
     "metadata": {},
     "output_type": "execute_result"
    }
   ],
   "source": [
    "df['description'][0].split('Front')[0].split('|')[-1].replace('MP','').strip()"
   ]
  },
  {
   "cell_type": "code",
   "execution_count": 232,
   "id": "d4b24e99",
   "metadata": {},
   "outputs": [],
   "source": [
    "def front_camera_extractor(text):\n",
    "    return text.split('Front')[0].split('|')[-1].replace('MP','').strip()"
   ]
  },
  {
   "cell_type": "code",
   "execution_count": 233,
   "id": "a3b43b8e",
   "metadata": {},
   "outputs": [],
   "source": [
    "df['front camera']=df['description'].apply(front_camera_extractor)"
   ]
  },
  {
   "cell_type": "code",
   "execution_count": 234,
   "id": "26894532",
   "metadata": {},
   "outputs": [
    {
     "data": {
      "text/plain": [
       "16                                                                             1636\n",
       "8                                                                               365\n",
       "32                                                                               44\n",
       "64 GB ROM16.76 cm (6.6 inch) Display50 Rear Camera6000 mAh Battery12 MONTHS      43\n",
       "Name: front camera, dtype: int64"
      ]
     },
     "execution_count": 234,
     "metadata": {},
     "output_type": "execute_result"
    }
   ],
   "source": [
    "df['front camera'].value_counts()"
   ]
  },
  {
   "cell_type": "code",
   "execution_count": 235,
   "id": "26844979",
   "metadata": {},
   "outputs": [
    {
     "data": {
      "text/plain": [
       "6 GB RAM | 128 GB ROM | Expandable Upto 256 GB16.26 cm (6.4 inch) Full HD+ AMOLED Display108MP + 8MP + 2MP | 16MP Front Camera5000 mAh Lithium Ion BatteryQualcomm Snapdragon 680 Processor1 Year Manufacturer Warranty for Phone and 6 Months Warranty for In-Box Accessories                                                                                                                                                                    132\n",
       "6 GB RAM | 128 GB ROM | Expandable Upto 1 TB16.33 cm (6.43 inch) Full HD+ AMOLED Display64MP + 8MP + 2MP | 16MP Front Camera5000 mAh Lithium-ion Polymer BatteryMediatek Helio G96 ProcessorOne Year for Handset, 6 Months for Accessories                                                                                                                                                                                                        131\n",
       "4 GB RAM | 64 GB ROM | Expandable Upto 1 TB16.76 cm (6.6 inch) Full HD+ Display50MP + 8MP | 16MP Front Camera5000 mAh Lithium-ion Polymer BatteryMediatek Dimensity 810 ProcessorOne Year for Handset, 6 Months for Accessories                                                                                                                                                                                                                   130\n",
       "8 GB RAM | 128 GB ROM | Expandable Upto 1 TB17.07 cm (6.72 inch) Full HD+ Display108MP + 2MP | 16MP Front Camera5000 mAh BatteryQualcomm Snapdragon 695 5G Processor1 Year Manufacturer Warranty for Phone and 6 Months Warranty for In-Box Accessories                                                                                                                                                                                           129\n",
       "6 GB RAM | 64 GB ROM | Expandable Upto 1 TB16.33 cm (6.43 inch) Full HD+ AMOLED Display64MP + 8MP + 2MP | 16MP Front Camera5000 mAh Lithium-ion Polymer BatteryMediatek Helio G96 ProcessorOne Year for Handset, 6 Months for Accessories                                                                                                                                                                                                         112\n",
       "4 GB RAM | 64 GB ROM | Expandable Upto 1 TB16.76 cm (6.6 inch) Full HD+ Display50MP + 2MP + 2MP | 16MP Front Camera5000 mAh Lithium ion BatteryQualcomm Snapdragon 680 (SM6225) Processor1 Year Manufacturer Warranty for Phone and 6 Months Warranty for in the Box Accessories                                                                                                                                                                   88\n",
       "4 GB RAM | 128 GB ROM | Expandable Upto 1 TB16.76 cm (6.6 inch) Full HD+ Display50MP + 2MP + 2MP | 16MP Front Camera5000 mAh Lithium ion BatteryQualcomm Snapdragon 680 (SM6225) Processor1 Year Manufacturer Warranty for Phone and 6 Months Warranty for in the Box Accessories                                                                                                                                                                  88\n",
       "4 GB RAM | 128 GB ROM | Expandable Upto 1 TB16.36 cm (6.44 inch) Full HD+ AMOLED Display50MP + 2MP + 2MP | 16MP Front Camera5000 mAh Lithium BatteryQualcomm Snapdragon 680 Processor1 Year Handset and 6 Months Accessories                                                                                                                                                                                                                       88\n",
       "6 GB RAM | 128 GB ROM | Expandable Upto 512 GB16.71 cm (6.58 inch) Full HD+ Display50MP + 2MP | 8MP Front Camera5000 mAh Lithium Ion Polymer BatteryMediatek Dimensity 700 Processor1 Year Warranty for Handset and 6 Months for Accessories                                                                                                                                                                                                       88\n",
       "8 GB RAM | 128 GB ROM | Expandable Upto 256 GB16.26 cm (6.4 inch) Full HD+ AMOLED Display108MP + 8MP + 2MP | 16MP Front Camera5000 mAh Lithium Ion BatteryQualcomm Snapdragon 680 Processor1 Year Manufacturer Warranty for Phone and 6 Months Warranty for In-Box Accessories                                                                                                                                                                     88\n",
       "6 GB RAM | 128 GB ROM16.76 cm (6.6 inch) Full HD+ Display50MP + 8MP + 2MP | 16MP Front Camera5000 mAh Lithium BatteryQualcomm Snapdragon 680 Processor1 Year on Handset and 6 Months on Accessories                                                                                                                                                                                                                                                88\n",
       "6 GB RAM | 128 GB ROM | Expandable Upto 1 TB16.76 cm (6.6 inch) Full HD+ Display50MP + 2MP + 2MP | 16MP Front Camera5000 mAh Lithium ion BatteryQualcomm Snapdragon 680 (SM6225) Processor1 Year Manufacturer Warranty for Phone and 6 Months Warranty for in the Box Accessories                                                                                                                                                                  88\n",
       "6 GB RAM | 128 GB ROM | Expandable Upto 1 TB16.36 cm (6.44 inch) Full HD+ AMOLED Display50MP + 2MP + 2MP | 16MP Front Camera5000 mAh Lithium BatteryQualcomm Snapdragon 680 Processor1 Year Handset and 6 Months Accessories                                                                                                                                                                                                                       86\n",
       "8 GB RAM | 128 GB ROM | Expandable Upto 1 TB16.76 cm (6.6 inch) Full HD+ Display50MP + 8MP | 16MP Front Camera5000 mAh Lithium-ion Polymer BatteryMediatek Dimensity 810 ProcessorOne Year for Handset, 6 Months for Accessories                                                                                                                                                                                                                   86\n",
       "4 GB RAM | 64 GB ROM16.71 cm (6.58 inch) Full HD+ Display50MP + 2MP | 8MP Front Camera5000 mAh BatteryQualcomm Snapdragon 680 Processor1 Year on Handset and 6 Months on Accessories                                                                                                                                                                                                                                                               86\n",
       "4 GB RAM | 128 GB ROM16.71 cm (6.58 inch) Full HD+ Display50MP + 2MP | 8MP Front Camera5000 mAh BatteryQualcomm Snapdragon 680 Processor1 Year on Handset and 6 Months on Accessories                                                                                                                                                                                                                                                              86\n",
       "6 GB RAM | 128 GB ROM | Expandable Upto 1 TB17.07 cm (6.72 inch) Full HD+ Display108MP + 2MP | 16MP Front Camera5000 mAh BatteryQualcomm Snapdragon 695 5G Processor1 Year Manufacturer Warranty for Phone and 6 Months Warranty for In-Box Accessories                                                                                                                                                                                            61\n",
       "6 GB RAM | 128 GB ROM17.22 cm (6.78 inch) Full HD+ Display108MP + 8MP + 2MP | 32MP Front Camera6000 mAh BatteryQualcomm Snapdragon 732G Processor120Hz Refresh RateStock Android Experience1 Year on Handset and 6 Months on Accessories                                                                                                                                                                                                           44\n",
       "6 GB RAM | 128 GB ROM | Expandable Upto 1 TB16.76 cm (6.6 inch) Full HD+ Display50MP + 8MP | 16MP Front Camera5000 mAh Lithium-ion Polymer BatteryMediatek Dimensity 810 ProcessorOne Year for Handset, 6 Months for Accessories                                                                                                                                                                                                                   44\n",
       "4 GB RAM | 64 GB ROM | Expandable Upto 1 TB16.76 cm (6.6 inch) Full HD+ Display50MP + 5MP + 2MP | 8MP Front Camera6000 mAh Lithium Ion BatteryExynos 850 Processor1 Year Warranty Provided By the Manufacturer from Date of Purchase                                                                                                                                                                                                               44\n",
       "6 GB RAM | 128 GB ROM | Expandable Upto 1 TB16.94 cm (6.67 inch) Full HD+ Super AMOLED Display64MP + 8MP + 2MP | 16MP Front Camera5000 mAh Lithium-ion Polymer BatteryQualcomm Snapdragon 695 5G ProcessorOne Year for Handset, 6 Months for Accessories                                                                                                                                                                                           43\n",
       "6 GB RAM | 128 GB ROM | Expandable Upto 1 TB16.71 cm (6.58 inch) Full HD+ Display50MP + 2MP + 2MP | 16MP Front Camera5000 mAh Lithium BatteryQualcomm Snapdragon 695 Processor1 Year Handset and 6 Months Accessories                                                                                                                                                                                                                              43\n",
       "4 GB RAM | 64 GB ROM16.76 cm (6.6 inch) Display50MP Rear Camera6000 mAh Battery12 MONTHS                                                                                                                                                                                                                                                                                                                                                           43\n",
       "6 GB RAM | 128 GB ROM16.64 cm (6.55 inch) Full HD+ Display50MP + 8MP + 2MP | 16MP Front Camera5000 mAh Lithium Polymer BatteryQualcomm Snapdragon 695 5G Processor1 Year on Handset and 6 Months on Accessories                                                                                                                                                                                                                                    43\n",
       "4 GB RAM | 64 GB ROM | Expandable Upto 512 GB16.71 cm (6.58 inch) Full HD+ Display50MP + 2MP | 8MP Front Camera5000 mAh Lithium Ion Polymer BatteryMediatek Dimensity 700 Processor1 Year Warranty for Handset and 6 Months for Accessories                                                                                                                                                                                                        43\n",
       "6 GB RAM | 128 GB ROM | Expandable Upto 1 TB16.74 cm (6.59 inch) Full HD+ Display50MP + 2MP + 2MP | 16MP Front Camera5000 mAh Lithium Ion BatteryQualcomm Snapdragon 680 Processor33W SUPERVOOC Charger | Dual Speaker | Super Adaptive Refresh RateAI Photo Suite | OPPO Glow Design with Dirt and Scratch Resistant1 Year Manufacturer Warranty for Phone and 6 Months Warranty for In-Box Accessories                                           43\n",
       "4 GB RAM | 128 GB ROM | Expandable Upto 1 TB16.71 cm (6.58 inch) Full HD+ Display50MP + 2MP + 2MP | 16MP Front Camera5000 mAh Lithium BatteryTurbo Processor Snapdragon 695 Processor1 Year Handset and 6 Months Accessories                                                                                                                                                                                                                       25\n",
       "6 GB RAM | 128 GB ROM16.66 cm (6.56 inch) Full HD+ Display48MP Primary Camera + 2MP Macro Lens + 2MP Depth Sensor | 8MP Front Camera5000 mAh Lithium Polymer BatteryMediatek Dimensity 700 ProcessorMax GPU Frequency: 950 MHz, Supports GAME Turbo 3.0, UFS2.2 Storage, Reading Mode 3.0, 360 Degree Ambient Light Sensors, Supports 18W Fast Charging1 Year Manufacturer Warranty for Phone and 6 Months Warranty for In the Box Accessories     18\n",
       "Name: description, dtype: int64"
      ]
     },
     "execution_count": 235,
     "metadata": {},
     "output_type": "execute_result"
    }
   ],
   "source": [
    "df['description'].value_counts()"
   ]
  },
  {
   "cell_type": "code",
   "execution_count": 236,
   "id": "ede877b1",
   "metadata": {},
   "outputs": [],
   "source": [
    "df=df[df['front camera']!='64 GB ROM16.76 cm (6.6 inch) Display50 Rear Camera6000 mAh Battery12 MONTHS']"
   ]
  },
  {
   "cell_type": "code",
   "execution_count": 237,
   "id": "f3e4bd2a",
   "metadata": {},
   "outputs": [
    {
     "data": {
      "text/plain": [
       "(2045, 9)"
      ]
     },
     "execution_count": 237,
     "metadata": {},
     "output_type": "execute_result"
    }
   ],
   "source": [
    "df.shape"
   ]
  },
  {
   "cell_type": "code",
   "execution_count": 238,
   "id": "07af84d7",
   "metadata": {},
   "outputs": [
    {
     "data": {
      "text/plain": [
       "16    1636\n",
       "8      365\n",
       "32      44\n",
       "Name: front camera, dtype: int64"
      ]
     },
     "execution_count": 238,
     "metadata": {},
     "output_type": "execute_result"
    }
   ],
   "source": [
    "df['front camera'].value_counts()"
   ]
  },
  {
   "cell_type": "code",
   "execution_count": 239,
   "id": "1f87b6ff",
   "metadata": {},
   "outputs": [
    {
     "data": {
      "image/png": "[encoded data removed]",
      "text/plain": [
       "<Figure size 648x504 with 1 Axes>"
      ]
     },
     "metadata": {
      "needs_background": "light"
     },
     "output_type": "display_data"
    }
   ],
   "source": [
    "plt.figure(figsize=(9,7))\n",
    "df['front camera'].value_counts().plot(kind='bar')\n",
    "plt.show()"
   ]
  },
  {
   "cell_type": "code",
   "execution_count": 240,
   "id": "58d247d7",
   "metadata": {},
   "outputs": [
    {
     "data": {
      "image/png": "[encoded data removed]",
      "text/plain": [
       "<Figure size 648x504 with 1 Axes>"
      ]
     },
     "metadata": {
      "needs_background": "light"
     },
     "output_type": "display_data"
    }
   ],
   "source": [
    "plt.figure(figsize=(9,7))\n",
    "sns.barplot(data=df,x='front camera',y='price')\n",
    "plt.show()"
   ]
  },
  {
   "cell_type": "code",
   "execution_count": 241,
   "id": "cde48897",
   "metadata": {},
   "outputs": [
    {
     "data": {
      "text/html": [
       "<div>\n",
       "<style scoped>\n",
       "    .dataframe tbody tr th:only-of-type {\n",
       "        vertical-align: middle;\n",
       "    }\n",
       "\n",
       "    .dataframe tbody tr th {\n",
       "        vertical-align: top;\n",
       "    }\n",
       "\n",
       "    .dataframe thead th {\n",
       "        text-align: right;\n",
       "    }\n",
       "</style>\n",
       "<table border=\"1\" class=\"dataframe\">\n",
       "  <thead>\n",
       "    <tr style=\"text-align: right;\">\n",
       "      <th></th>\n",
       "      <th>price</th>\n",
       "      <th>description</th>\n",
       "      <th>model</th>\n",
       "      <th>color</th>\n",
       "      <th>company</th>\n",
       "      <th>RAM</th>\n",
       "      <th>ROM</th>\n",
       "      <th>first camera</th>\n",
       "      <th>front camera</th>\n",
       "    </tr>\n",
       "  </thead>\n",
       "  <tbody>\n",
       "    <tr>\n",
       "      <th>553</th>\n",
       "      <td>19.999</td>\n",
       "      <td>8 GB RAM | 128 GB ROM | Expandable Upto 1 TB17...</td>\n",
       "      <td>realme 10 Pro 5G</td>\n",
       "      <td>Dark Matter</td>\n",
       "      <td>Realme</td>\n",
       "      <td>8</td>\n",
       "      <td>128</td>\n",
       "      <td>108</td>\n",
       "      <td>16</td>\n",
       "    </tr>\n",
       "    <tr>\n",
       "      <th>1062</th>\n",
       "      <td>12.999</td>\n",
       "      <td>6 GB RAM | 128 GB ROM16.76 cm (6.6 inch) Full ...</td>\n",
       "      <td>MOTOROLA g52</td>\n",
       "      <td>Charcoal Grey</td>\n",
       "      <td>Lenovo</td>\n",
       "      <td>6</td>\n",
       "      <td>128</td>\n",
       "      <td>50</td>\n",
       "      <td>16</td>\n",
       "    </tr>\n",
       "    <tr>\n",
       "      <th>1929</th>\n",
       "      <td>12.999</td>\n",
       "      <td>6 GB RAM | 128 GB ROM16.76 cm (6.6 inch) Full ...</td>\n",
       "      <td>MOTOROLA g52</td>\n",
       "      <td>Metallic White</td>\n",
       "      <td>Lenovo</td>\n",
       "      <td>6</td>\n",
       "      <td>128</td>\n",
       "      <td>50</td>\n",
       "      <td>16</td>\n",
       "    </tr>\n",
       "    <tr>\n",
       "      <th>870</th>\n",
       "      <td>12.999</td>\n",
       "      <td>6 GB RAM | 128 GB ROM16.76 cm (6.6 inch) Full ...</td>\n",
       "      <td>MOTOROLA g52</td>\n",
       "      <td>Charcoal Grey</td>\n",
       "      <td>Lenovo</td>\n",
       "      <td>6</td>\n",
       "      <td>128</td>\n",
       "      <td>50</td>\n",
       "      <td>16</td>\n",
       "    </tr>\n",
       "    <tr>\n",
       "      <th>921</th>\n",
       "      <td>12.999</td>\n",
       "      <td>6 GB RAM | 128 GB ROM16.76 cm (6.6 inch) Full ...</td>\n",
       "      <td>MOTOROLA g52</td>\n",
       "      <td>Metallic White</td>\n",
       "      <td>Lenovo</td>\n",
       "      <td>6</td>\n",
       "      <td>128</td>\n",
       "      <td>50</td>\n",
       "      <td>16</td>\n",
       "    </tr>\n",
       "  </tbody>\n",
       "</table>\n",
       "</div>"
      ],
      "text/plain": [
       "       price                                        description  \\\n",
       "553   19.999  8 GB RAM | 128 GB ROM | Expandable Upto 1 TB17...   \n",
       "1062  12.999  6 GB RAM | 128 GB ROM16.76 cm (6.6 inch) Full ...   \n",
       "1929  12.999  6 GB RAM | 128 GB ROM16.76 cm (6.6 inch) Full ...   \n",
       "870   12.999  6 GB RAM | 128 GB ROM16.76 cm (6.6 inch) Full ...   \n",
       "921   12.999  6 GB RAM | 128 GB ROM16.76 cm (6.6 inch) Full ...   \n",
       "\n",
       "                 model           color company  RAM  ROM  first camera  \\\n",
       "553   realme 10 Pro 5G     Dark Matter  Realme    8  128           108   \n",
       "1062      MOTOROLA g52   Charcoal Grey  Lenovo    6  128            50   \n",
       "1929      MOTOROLA g52  Metallic White  Lenovo    6  128            50   \n",
       "870       MOTOROLA g52   Charcoal Grey  Lenovo    6  128            50   \n",
       "921       MOTOROLA g52  Metallic White  Lenovo    6  128            50   \n",
       "\n",
       "     front camera  \n",
       "553            16  \n",
       "1062           16  \n",
       "1929           16  \n",
       "870            16  \n",
       "921            16  "
      ]
     },
     "execution_count": 241,
     "metadata": {},
     "output_type": "execute_result"
    }
   ],
   "source": [
    "df.sample(5)"
   ]
  },
  {
   "cell_type": "code",
   "execution_count": 242,
   "id": "ab0994ec",
   "metadata": {},
   "outputs": [
    {
     "data": {
      "text/plain": [
       "'4 GB RAM | 64 GB ROM | Expandable Upto 1 TB16.76 cm (6.6 inch) Full HD+ Display50MP + 2MP + 2MP | 16MP Front Camera5000 mAh Lithium ion BatteryQualcomm Snapdragon 680 (SM6225) Processor1 Year Manufacturer Warranty for Phone and 6 Months Warranty for in the Box Accessories'"
      ]
     },
     "execution_count": 242,
     "metadata": {},
     "output_type": "execute_result"
    }
   ],
   "source": [
    "df['description'][0]"
   ]
  },
  {
   "cell_type": "code",
   "execution_count": 243,
   "id": "73abf7a8",
   "metadata": {},
   "outputs": [
    {
     "data": {
      "text/plain": [
       "'5000'"
      ]
     },
     "execution_count": 243,
     "metadata": {},
     "output_type": "execute_result"
    }
   ],
   "source": [
    "df['description'][0].split('mAh')[0].split()[-1].replace('Camera','').strip()"
   ]
  },
  {
   "cell_type": "code",
   "execution_count": 244,
   "id": "b8d2580b",
   "metadata": {},
   "outputs": [],
   "source": [
    "def battery_extractor(text):\n",
    "    return text.split('mAh')[0].split()[-1].replace('Camera','').strip()"
   ]
  },
  {
   "cell_type": "code",
   "execution_count": 245,
   "id": "92cf83e4",
   "metadata": {},
   "outputs": [],
   "source": [
    "df['Battery (mAh)']=df['description'].apply(battery_extractor)"
   ]
  },
  {
   "cell_type": "code",
   "execution_count": 246,
   "id": "3af8734c",
   "metadata": {},
   "outputs": [
    {
     "data": {
      "text/plain": [
       "5000    1957\n",
       "6000      88\n",
       "Name: Battery (mAh), dtype: int64"
      ]
     },
     "execution_count": 246,
     "metadata": {},
     "output_type": "execute_result"
    }
   ],
   "source": [
    "df['Battery (mAh)'].value_counts()"
   ]
  },
  {
   "cell_type": "code",
   "execution_count": 247,
   "id": "4ee646a9",
   "metadata": {},
   "outputs": [
    {
     "data": {
      "image/png": "[encoded data removed]",
      "text/plain": [
       "<Figure size 648x504 with 1 Axes>"
      ]
     },
     "metadata": {
      "needs_background": "light"
     },
     "output_type": "display_data"
    }
   ],
   "source": [
    "plt.figure(figsize=(9,7))\n",
    "df['Battery (mAh)'].value_counts().plot(kind='bar')\n",
    "plt.show()"
   ]
  },
  {
   "cell_type": "code",
   "execution_count": 248,
   "id": "6ab51a01",
   "metadata": {},
   "outputs": [
    {
     "data": {
      "image/png": "[encoded data removed]",
      "text/plain": [
       "<Figure size 648x504 with 1 Axes>"
      ]
     },
     "metadata": {
      "needs_background": "light"
     },
     "output_type": "display_data"
    }
   ],
   "source": [
    "plt.figure(figsize=(9,7))\n",
    "sns.barplot(data=df,x='Battery (mAh)',y='price')\n",
    "plt.show()"
   ]
  },
  {
   "cell_type": "code",
   "execution_count": 249,
   "id": "80bc7fe3",
   "metadata": {},
   "outputs": [
    {
     "data": {
      "text/plain": [
       "6 GB RAM | 128 GB ROM | Expandable Upto 256 GB16.26 cm (6.4 inch) Full HD+ AMOLED Display108MP + 8MP + 2MP | 16MP Front Camera5000 mAh Lithium Ion BatteryQualcomm Snapdragon 680 Processor1 Year Manufacturer Warranty for Phone and 6 Months Warranty for In-Box Accessories                                                                                                                                                                    132\n",
       "6 GB RAM | 128 GB ROM | Expandable Upto 1 TB16.33 cm (6.43 inch) Full HD+ AMOLED Display64MP + 8MP + 2MP | 16MP Front Camera5000 mAh Lithium-ion Polymer BatteryMediatek Helio G96 ProcessorOne Year for Handset, 6 Months for Accessories                                                                                                                                                                                                        131\n",
       "4 GB RAM | 64 GB ROM | Expandable Upto 1 TB16.76 cm (6.6 inch) Full HD+ Display50MP + 8MP | 16MP Front Camera5000 mAh Lithium-ion Polymer BatteryMediatek Dimensity 810 ProcessorOne Year for Handset, 6 Months for Accessories                                                                                                                                                                                                                   130\n",
       "8 GB RAM | 128 GB ROM | Expandable Upto 1 TB17.07 cm (6.72 inch) Full HD+ Display108MP + 2MP | 16MP Front Camera5000 mAh BatteryQualcomm Snapdragon 695 5G Processor1 Year Manufacturer Warranty for Phone and 6 Months Warranty for In-Box Accessories                                                                                                                                                                                           129\n",
       "6 GB RAM | 64 GB ROM | Expandable Upto 1 TB16.33 cm (6.43 inch) Full HD+ AMOLED Display64MP + 8MP + 2MP | 16MP Front Camera5000 mAh Lithium-ion Polymer BatteryMediatek Helio G96 ProcessorOne Year for Handset, 6 Months for Accessories                                                                                                                                                                                                         112\n",
       "4 GB RAM | 128 GB ROM | Expandable Upto 1 TB16.76 cm (6.6 inch) Full HD+ Display50MP + 2MP + 2MP | 16MP Front Camera5000 mAh Lithium ion BatteryQualcomm Snapdragon 680 (SM6225) Processor1 Year Manufacturer Warranty for Phone and 6 Months Warranty for in the Box Accessories                                                                                                                                                                  88\n",
       "4 GB RAM | 128 GB ROM | Expandable Upto 1 TB16.36 cm (6.44 inch) Full HD+ AMOLED Display50MP + 2MP + 2MP | 16MP Front Camera5000 mAh Lithium BatteryQualcomm Snapdragon 680 Processor1 Year Handset and 6 Months Accessories                                                                                                                                                                                                                       88\n",
       "4 GB RAM | 64 GB ROM | Expandable Upto 1 TB16.76 cm (6.6 inch) Full HD+ Display50MP + 2MP + 2MP | 16MP Front Camera5000 mAh Lithium ion BatteryQualcomm Snapdragon 680 (SM6225) Processor1 Year Manufacturer Warranty for Phone and 6 Months Warranty for in the Box Accessories                                                                                                                                                                   88\n",
       "6 GB RAM | 128 GB ROM | Expandable Upto 512 GB16.71 cm (6.58 inch) Full HD+ Display50MP + 2MP | 8MP Front Camera5000 mAh Lithium Ion Polymer BatteryMediatek Dimensity 700 Processor1 Year Warranty for Handset and 6 Months for Accessories                                                                                                                                                                                                       88\n",
       "8 GB RAM | 128 GB ROM | Expandable Upto 256 GB16.26 cm (6.4 inch) Full HD+ AMOLED Display108MP + 8MP + 2MP | 16MP Front Camera5000 mAh Lithium Ion BatteryQualcomm Snapdragon 680 Processor1 Year Manufacturer Warranty for Phone and 6 Months Warranty for In-Box Accessories                                                                                                                                                                     88\n",
       "6 GB RAM | 128 GB ROM16.76 cm (6.6 inch) Full HD+ Display50MP + 8MP + 2MP | 16MP Front Camera5000 mAh Lithium BatteryQualcomm Snapdragon 680 Processor1 Year on Handset and 6 Months on Accessories                                                                                                                                                                                                                                                88\n",
       "6 GB RAM | 128 GB ROM | Expandable Upto 1 TB16.76 cm (6.6 inch) Full HD+ Display50MP + 2MP + 2MP | 16MP Front Camera5000 mAh Lithium ion BatteryQualcomm Snapdragon 680 (SM6225) Processor1 Year Manufacturer Warranty for Phone and 6 Months Warranty for in the Box Accessories                                                                                                                                                                  88\n",
       "4 GB RAM | 64 GB ROM16.71 cm (6.58 inch) Full HD+ Display50MP + 2MP | 8MP Front Camera5000 mAh BatteryQualcomm Snapdragon 680 Processor1 Year on Handset and 6 Months on Accessories                                                                                                                                                                                                                                                               86\n",
       "4 GB RAM | 128 GB ROM16.71 cm (6.58 inch) Full HD+ Display50MP + 2MP | 8MP Front Camera5000 mAh BatteryQualcomm Snapdragon 680 Processor1 Year on Handset and 6 Months on Accessories                                                                                                                                                                                                                                                              86\n",
       "6 GB RAM | 128 GB ROM | Expandable Upto 1 TB16.36 cm (6.44 inch) Full HD+ AMOLED Display50MP + 2MP + 2MP | 16MP Front Camera5000 mAh Lithium BatteryQualcomm Snapdragon 680 Processor1 Year Handset and 6 Months Accessories                                                                                                                                                                                                                       86\n",
       "8 GB RAM | 128 GB ROM | Expandable Upto 1 TB16.76 cm (6.6 inch) Full HD+ Display50MP + 8MP | 16MP Front Camera5000 mAh Lithium-ion Polymer BatteryMediatek Dimensity 810 ProcessorOne Year for Handset, 6 Months for Accessories                                                                                                                                                                                                                   86\n",
       "6 GB RAM | 128 GB ROM | Expandable Upto 1 TB17.07 cm (6.72 inch) Full HD+ Display108MP + 2MP | 16MP Front Camera5000 mAh BatteryQualcomm Snapdragon 695 5G Processor1 Year Manufacturer Warranty for Phone and 6 Months Warranty for In-Box Accessories                                                                                                                                                                                            61\n",
       "4 GB RAM | 64 GB ROM | Expandable Upto 1 TB16.76 cm (6.6 inch) Full HD+ Display50MP + 5MP + 2MP | 8MP Front Camera6000 mAh Lithium Ion BatteryExynos 850 Processor1 Year Warranty Provided By the Manufacturer from Date of Purchase                                                                                                                                                                                                               44\n",
       "6 GB RAM | 128 GB ROM17.22 cm (6.78 inch) Full HD+ Display108MP + 8MP + 2MP | 32MP Front Camera6000 mAh BatteryQualcomm Snapdragon 732G Processor120Hz Refresh RateStock Android Experience1 Year on Handset and 6 Months on Accessories                                                                                                                                                                                                           44\n",
       "6 GB RAM | 128 GB ROM | Expandable Upto 1 TB16.76 cm (6.6 inch) Full HD+ Display50MP + 8MP | 16MP Front Camera5000 mAh Lithium-ion Polymer BatteryMediatek Dimensity 810 ProcessorOne Year for Handset, 6 Months for Accessories                                                                                                                                                                                                                   44\n",
       "6 GB RAM | 128 GB ROM | Expandable Upto 1 TB16.74 cm (6.59 inch) Full HD+ Display50MP + 2MP + 2MP | 16MP Front Camera5000 mAh Lithium Ion BatteryQualcomm Snapdragon 680 Processor33W SUPERVOOC Charger | Dual Speaker | Super Adaptive Refresh RateAI Photo Suite | OPPO Glow Design with Dirt and Scratch Resistant1 Year Manufacturer Warranty for Phone and 6 Months Warranty for In-Box Accessories                                           43\n",
       "4 GB RAM | 64 GB ROM | Expandable Upto 512 GB16.71 cm (6.58 inch) Full HD+ Display50MP + 2MP | 8MP Front Camera5000 mAh Lithium Ion Polymer BatteryMediatek Dimensity 700 Processor1 Year Warranty for Handset and 6 Months for Accessories                                                                                                                                                                                                        43\n",
       "6 GB RAM | 128 GB ROM16.64 cm (6.55 inch) Full HD+ Display50MP + 8MP + 2MP | 16MP Front Camera5000 mAh Lithium Polymer BatteryQualcomm Snapdragon 695 5G Processor1 Year on Handset and 6 Months on Accessories                                                                                                                                                                                                                                    43\n",
       "6 GB RAM | 128 GB ROM | Expandable Upto 1 TB16.94 cm (6.67 inch) Full HD+ Super AMOLED Display64MP + 8MP + 2MP | 16MP Front Camera5000 mAh Lithium-ion Polymer BatteryQualcomm Snapdragon 695 5G ProcessorOne Year for Handset, 6 Months for Accessories                                                                                                                                                                                           43\n",
       "6 GB RAM | 128 GB ROM | Expandable Upto 1 TB16.71 cm (6.58 inch) Full HD+ Display50MP + 2MP + 2MP | 16MP Front Camera5000 mAh Lithium BatteryQualcomm Snapdragon 695 Processor1 Year Handset and 6 Months Accessories                                                                                                                                                                                                                              43\n",
       "4 GB RAM | 128 GB ROM | Expandable Upto 1 TB16.71 cm (6.58 inch) Full HD+ Display50MP + 2MP + 2MP | 16MP Front Camera5000 mAh Lithium BatteryTurbo Processor Snapdragon 695 Processor1 Year Handset and 6 Months Accessories                                                                                                                                                                                                                       25\n",
       "6 GB RAM | 128 GB ROM16.66 cm (6.56 inch) Full HD+ Display48MP Primary Camera + 2MP Macro Lens + 2MP Depth Sensor | 8MP Front Camera5000 mAh Lithium Polymer BatteryMediatek Dimensity 700 ProcessorMax GPU Frequency: 950 MHz, Supports GAME Turbo 3.0, UFS2.2 Storage, Reading Mode 3.0, 360 Degree Ambient Light Sensors, Supports 18W Fast Charging1 Year Manufacturer Warranty for Phone and 6 Months Warranty for In the Box Accessories     18\n",
       "Name: description, dtype: int64"
      ]
     },
     "execution_count": 249,
     "metadata": {},
     "output_type": "execute_result"
    }
   ],
   "source": [
    "df['description'].value_counts()"
   ]
  },
  {
   "cell_type": "code",
   "execution_count": 250,
   "id": "d0060585",
   "metadata": {},
   "outputs": [],
   "source": [
    "def processor_extractor(text):\n",
    "    if 'Snapdragon' in text:\n",
    "        return 'Snapdragon'\n",
    "    else:\n",
    "        return 'Mediatek'"
   ]
  },
  {
   "cell_type": "code",
   "execution_count": 251,
   "id": "2249d01f",
   "metadata": {},
   "outputs": [],
   "source": [
    "df['Processor']=df['description'].apply(processor_extractor)"
   ]
  },
  {
   "cell_type": "code",
   "execution_count": 252,
   "id": "a7a55527",
   "metadata": {},
   "outputs": [
    {
     "data": {
      "text/html": [
       "<div>\n",
       "<style scoped>\n",
       "    .dataframe tbody tr th:only-of-type {\n",
       "        vertical-align: middle;\n",
       "    }\n",
       "\n",
       "    .dataframe tbody tr th {\n",
       "        vertical-align: top;\n",
       "    }\n",
       "\n",
       "    .dataframe thead th {\n",
       "        text-align: right;\n",
       "    }\n",
       "</style>\n",
       "<table border=\"1\" class=\"dataframe\">\n",
       "  <thead>\n",
       "    <tr style=\"text-align: right;\">\n",
       "      <th></th>\n",
       "      <th>price</th>\n",
       "      <th>description</th>\n",
       "      <th>model</th>\n",
       "      <th>color</th>\n",
       "      <th>company</th>\n",
       "      <th>RAM</th>\n",
       "      <th>ROM</th>\n",
       "      <th>first camera</th>\n",
       "      <th>front camera</th>\n",
       "      <th>Battery (mAh)</th>\n",
       "      <th>Processor</th>\n",
       "    </tr>\n",
       "  </thead>\n",
       "  <tbody>\n",
       "    <tr>\n",
       "      <th>645</th>\n",
       "      <td>14.499</td>\n",
       "      <td>4 GB RAM | 128 GB ROM | Expandable Upto 1 TB16...</td>\n",
       "      <td>vivo T1 44W</td>\n",
       "      <td>Starry Sky</td>\n",
       "      <td>BBK Electronics</td>\n",
       "      <td>4</td>\n",
       "      <td>128</td>\n",
       "      <td>50</td>\n",
       "      <td>16</td>\n",
       "      <td>5000</td>\n",
       "      <td>Snapdragon</td>\n",
       "    </tr>\n",
       "    <tr>\n",
       "      <th>2028</th>\n",
       "      <td>14.999</td>\n",
       "      <td>8 GB RAM | 128 GB ROM | Expandable Upto 256 GB...</td>\n",
       "      <td>realme 9</td>\n",
       "      <td>Sunburst Gold</td>\n",
       "      <td>Realme</td>\n",
       "      <td>8</td>\n",
       "      <td>128</td>\n",
       "      <td>108</td>\n",
       "      <td>16</td>\n",
       "      <td>5000</td>\n",
       "      <td>Snapdragon</td>\n",
       "    </tr>\n",
       "    <tr>\n",
       "      <th>1483</th>\n",
       "      <td>12.999</td>\n",
       "      <td>4 GB RAM | 128 GB ROM16.71 cm (6.58 inch) Full...</td>\n",
       "      <td>vivo T1X</td>\n",
       "      <td>Space Blue</td>\n",
       "      <td>BBK Electronics</td>\n",
       "      <td>4</td>\n",
       "      <td>128</td>\n",
       "      <td>50</td>\n",
       "      <td>8</td>\n",
       "      <td>5000</td>\n",
       "      <td>Snapdragon</td>\n",
       "    </tr>\n",
       "    <tr>\n",
       "      <th>87</th>\n",
       "      <td>15.999</td>\n",
       "      <td>6 GB RAM | 128 GB ROM | Expandable Upto 1 TB16...</td>\n",
       "      <td>vivo T1 44W</td>\n",
       "      <td>Starry Sky</td>\n",
       "      <td>BBK Electronics</td>\n",
       "      <td>6</td>\n",
       "      <td>128</td>\n",
       "      <td>50</td>\n",
       "      <td>16</td>\n",
       "      <td>5000</td>\n",
       "      <td>Snapdragon</td>\n",
       "    </tr>\n",
       "    <tr>\n",
       "      <th>113</th>\n",
       "      <td>12.999</td>\n",
       "      <td>6 GB RAM | 128 GB ROM | Expandable Upto 1 TB16...</td>\n",
       "      <td>POCO M4 Pro</td>\n",
       "      <td>Power Black</td>\n",
       "      <td>Xiaomi</td>\n",
       "      <td>6</td>\n",
       "      <td>128</td>\n",
       "      <td>64</td>\n",
       "      <td>16</td>\n",
       "      <td>5000</td>\n",
       "      <td>Mediatek</td>\n",
       "    </tr>\n",
       "  </tbody>\n",
       "</table>\n",
       "</div>"
      ],
      "text/plain": [
       "       price                                        description        model  \\\n",
       "645   14.499  4 GB RAM | 128 GB ROM | Expandable Upto 1 TB16...  vivo T1 44W   \n",
       "2028  14.999  8 GB RAM | 128 GB ROM | Expandable Upto 256 GB...     realme 9   \n",
       "1483  12.999  4 GB RAM | 128 GB ROM16.71 cm (6.58 inch) Full...     vivo T1X   \n",
       "87    15.999  6 GB RAM | 128 GB ROM | Expandable Upto 1 TB16...  vivo T1 44W   \n",
       "113   12.999  6 GB RAM | 128 GB ROM | Expandable Upto 1 TB16...  POCO M4 Pro   \n",
       "\n",
       "              color          company  RAM  ROM  first camera front camera  \\\n",
       "645      Starry Sky  BBK Electronics    4  128            50           16   \n",
       "2028  Sunburst Gold           Realme    8  128           108           16   \n",
       "1483     Space Blue  BBK Electronics    4  128            50            8   \n",
       "87       Starry Sky  BBK Electronics    6  128            50           16   \n",
       "113     Power Black           Xiaomi    6  128            64           16   \n",
       "\n",
       "     Battery (mAh)   Processor  \n",
       "645           5000  Snapdragon  \n",
       "2028          5000  Snapdragon  \n",
       "1483          5000  Snapdragon  \n",
       "87            5000  Snapdragon  \n",
       "113           5000    Mediatek  "
      ]
     },
     "execution_count": 252,
     "metadata": {},
     "output_type": "execute_result"
    }
   ],
   "source": [
    "df.sample(5)"
   ]
  },
  {
   "cell_type": "code",
   "execution_count": 253,
   "id": "5875e79b",
   "metadata": {},
   "outputs": [
    {
     "data": {
      "text/plain": [
       "Snapdragon    1349\n",
       "Mediatek       696\n",
       "Name: Processor, dtype: int64"
      ]
     },
     "execution_count": 253,
     "metadata": {},
     "output_type": "execute_result"
    }
   ],
   "source": [
    "df['Processor'].value_counts()"
   ]
  },
  {
   "cell_type": "code",
   "execution_count": 254,
   "id": "1b7e3f8d",
   "metadata": {},
   "outputs": [
    {
     "data": {
      "image/png": "[encoded data removed]",
      "text/plain": [
       "<Figure size 648x504 with 1 Axes>"
      ]
     },
     "metadata": {
      "needs_background": "light"
     },
     "output_type": "display_data"
    }
   ],
   "source": [
    "plt.figure(figsize=(9,7))\n",
    "df['Processor'].value_counts().plot(kind='bar')\n",
    "plt.show()"
   ]
  },
  {
   "cell_type": "code",
   "execution_count": 255,
   "id": "c5245e46",
   "metadata": {},
   "outputs": [
    {
     "data": {
      "image/png": "[encoded data removed]",
      "text/plain": [
       "<Figure size 648x504 with 1 Axes>"
      ]
     },
     "metadata": {
      "needs_background": "light"
     },
     "output_type": "display_data"
    }
   ],
   "source": [
    "plt.figure(figsize=(9,7))\n",
    "sns.barplot(data=df,x='Processor',y='price')\n",
    "plt.show()"
   ]
  },
  {
   "cell_type": "code",
   "execution_count": 256,
   "id": "441e3d1b",
   "metadata": {},
   "outputs": [
    {
     "data": {
      "text/html": [
       "<div>\n",
       "<style scoped>\n",
       "    .dataframe tbody tr th:only-of-type {\n",
       "        vertical-align: middle;\n",
       "    }\n",
       "\n",
       "    .dataframe tbody tr th {\n",
       "        vertical-align: top;\n",
       "    }\n",
       "\n",
       "    .dataframe thead th {\n",
       "        text-align: right;\n",
       "    }\n",
       "</style>\n",
       "<table border=\"1\" class=\"dataframe\">\n",
       "  <thead>\n",
       "    <tr style=\"text-align: right;\">\n",
       "      <th></th>\n",
       "      <th>price</th>\n",
       "      <th>description</th>\n",
       "      <th>model</th>\n",
       "      <th>color</th>\n",
       "      <th>company</th>\n",
       "      <th>RAM</th>\n",
       "      <th>ROM</th>\n",
       "      <th>first camera</th>\n",
       "      <th>front camera</th>\n",
       "      <th>Battery (mAh)</th>\n",
       "      <th>Processor</th>\n",
       "    </tr>\n",
       "  </thead>\n",
       "  <tbody>\n",
       "    <tr>\n",
       "      <th>1928</th>\n",
       "      <td>13.999</td>\n",
       "      <td>6 GB RAM | 128 GB ROM | Expandable Upto 256 GB...</td>\n",
       "      <td>realme 9</td>\n",
       "      <td>Meteor Black</td>\n",
       "      <td>Realme</td>\n",
       "      <td>6</td>\n",
       "      <td>128</td>\n",
       "      <td>108</td>\n",
       "      <td>16</td>\n",
       "      <td>5000</td>\n",
       "      <td>Snapdragon</td>\n",
       "    </tr>\n",
       "    <tr>\n",
       "      <th>868</th>\n",
       "      <td>11.499</td>\n",
       "      <td>4 GB RAM | 128 GB ROM | Expandable Upto 1 TB16...</td>\n",
       "      <td>realme 9i</td>\n",
       "      <td>Prism Black</td>\n",
       "      <td>Realme</td>\n",
       "      <td>4</td>\n",
       "      <td>128</td>\n",
       "      <td>50</td>\n",
       "      <td>16</td>\n",
       "      <td>5000</td>\n",
       "      <td>Snapdragon</td>\n",
       "    </tr>\n",
       "    <tr>\n",
       "      <th>1530</th>\n",
       "      <td>14.999</td>\n",
       "      <td>8 GB RAM | 128 GB ROM | Expandable Upto 1 TB16...</td>\n",
       "      <td>POCO M4 Pro 5G</td>\n",
       "      <td>Power Black</td>\n",
       "      <td>Xiaomi</td>\n",
       "      <td>8</td>\n",
       "      <td>128</td>\n",
       "      <td>50</td>\n",
       "      <td>16</td>\n",
       "      <td>5000</td>\n",
       "      <td>Mediatek</td>\n",
       "    </tr>\n",
       "    <tr>\n",
       "      <th>827</th>\n",
       "      <td>14.999</td>\n",
       "      <td>8 GB RAM | 128 GB ROM | Expandable Upto 256 GB...</td>\n",
       "      <td>realme 9</td>\n",
       "      <td>Sunburst Gold</td>\n",
       "      <td>Realme</td>\n",
       "      <td>8</td>\n",
       "      <td>128</td>\n",
       "      <td>108</td>\n",
       "      <td>16</td>\n",
       "      <td>5000</td>\n",
       "      <td>Snapdragon</td>\n",
       "    </tr>\n",
       "    <tr>\n",
       "      <th>1791</th>\n",
       "      <td>12.999</td>\n",
       "      <td>6 GB RAM | 128 GB ROM | Expandable Upto 512 GB...</td>\n",
       "      <td>POCO M4 5G</td>\n",
       "      <td>Cool Blue</td>\n",
       "      <td>Xiaomi</td>\n",
       "      <td>6</td>\n",
       "      <td>128</td>\n",
       "      <td>50</td>\n",
       "      <td>8</td>\n",
       "      <td>5000</td>\n",
       "      <td>Mediatek</td>\n",
       "    </tr>\n",
       "  </tbody>\n",
       "</table>\n",
       "</div>"
      ],
      "text/plain": [
       "       price                                        description  \\\n",
       "1928  13.999  6 GB RAM | 128 GB ROM | Expandable Upto 256 GB...   \n",
       "868   11.499  4 GB RAM | 128 GB ROM | Expandable Upto 1 TB16...   \n",
       "1530  14.999  8 GB RAM | 128 GB ROM | Expandable Upto 1 TB16...   \n",
       "827   14.999  8 GB RAM | 128 GB ROM | Expandable Upto 256 GB...   \n",
       "1791  12.999  6 GB RAM | 128 GB ROM | Expandable Upto 512 GB...   \n",
       "\n",
       "               model          color company  RAM  ROM  first camera  \\\n",
       "1928        realme 9   Meteor Black  Realme    6  128           108   \n",
       "868        realme 9i    Prism Black  Realme    4  128            50   \n",
       "1530  POCO M4 Pro 5G    Power Black  Xiaomi    8  128            50   \n",
       "827         realme 9  Sunburst Gold  Realme    8  128           108   \n",
       "1791      POCO M4 5G      Cool Blue  Xiaomi    6  128            50   \n",
       "\n",
       "     front camera Battery (mAh)   Processor  \n",
       "1928           16          5000  Snapdragon  \n",
       "868            16          5000  Snapdragon  \n",
       "1530           16          5000    Mediatek  \n",
       "827            16          5000  Snapdragon  \n",
       "1791            8          5000    Mediatek  "
      ]
     },
     "execution_count": 256,
     "metadata": {},
     "output_type": "execute_result"
    }
   ],
   "source": [
    "df.sample(5)"
   ]
  },
  {
   "cell_type": "code",
   "execution_count": 257,
   "id": "2b96aaf1",
   "metadata": {},
   "outputs": [],
   "source": [
    "df['RAM (GB)']=df['RAM']\n",
    "df['ROM (GB)']=df['ROM']\n",
    "df['Main Camera (Pixel)']=df['first camera']\n",
    "df['Front Camera (Pixel)']=df['front camera']\n",
    "df['Company']=df['company']\n",
    "df['Color']=df['color']\n",
    "df['Model']=df['model']\n",
    "df['Price']=df['price']"
   ]
  },
  {
   "cell_type": "code",
   "execution_count": 258,
   "id": "c5677805",
   "metadata": {},
   "outputs": [
    {
     "data": {
      "text/html": [
       "<div>\n",
       "<style scoped>\n",
       "    .dataframe tbody tr th:only-of-type {\n",
       "        vertical-align: middle;\n",
       "    }\n",
       "\n",
       "    .dataframe tbody tr th {\n",
       "        vertical-align: top;\n",
       "    }\n",
       "\n",
       "    .dataframe thead th {\n",
       "        text-align: right;\n",
       "    }\n",
       "</style>\n",
       "<table border=\"1\" class=\"dataframe\">\n",
       "  <thead>\n",
       "    <tr style=\"text-align: right;\">\n",
       "      <th></th>\n",
       "      <th>Battery (mAh)</th>\n",
       "      <th>Processor</th>\n",
       "      <th>RAM (GB)</th>\n",
       "      <th>ROM (GB)</th>\n",
       "      <th>Main Camera (Pixel)</th>\n",
       "      <th>Front Camera (Pixel)</th>\n",
       "      <th>Company</th>\n",
       "      <th>Color</th>\n",
       "      <th>Model</th>\n",
       "      <th>Price</th>\n",
       "    </tr>\n",
       "  </thead>\n",
       "  <tbody>\n",
       "    <tr>\n",
       "      <th>1680</th>\n",
       "      <td>5000</td>\n",
       "      <td>Snapdragon</td>\n",
       "      <td>4</td>\n",
       "      <td>64</td>\n",
       "      <td>50</td>\n",
       "      <td>16</td>\n",
       "      <td>Realme</td>\n",
       "      <td>Prism Black</td>\n",
       "      <td>realme 9i</td>\n",
       "      <td>10.499</td>\n",
       "    </tr>\n",
       "    <tr>\n",
       "      <th>1690</th>\n",
       "      <td>5000</td>\n",
       "      <td>Mediatek</td>\n",
       "      <td>6</td>\n",
       "      <td>128</td>\n",
       "      <td>50</td>\n",
       "      <td>16</td>\n",
       "      <td>Xiaomi</td>\n",
       "      <td>Cool Blue</td>\n",
       "      <td>POCO M4 Pro 5G</td>\n",
       "      <td>13.999</td>\n",
       "    </tr>\n",
       "    <tr>\n",
       "      <th>357</th>\n",
       "      <td>5000</td>\n",
       "      <td>Snapdragon</td>\n",
       "      <td>4</td>\n",
       "      <td>128</td>\n",
       "      <td>50</td>\n",
       "      <td>16</td>\n",
       "      <td>BBK Electronics</td>\n",
       "      <td>Starry Sky</td>\n",
       "      <td>vivo T1 44W</td>\n",
       "      <td>14.499</td>\n",
       "    </tr>\n",
       "    <tr>\n",
       "      <th>972</th>\n",
       "      <td>5000</td>\n",
       "      <td>Snapdragon</td>\n",
       "      <td>8</td>\n",
       "      <td>128</td>\n",
       "      <td>108</td>\n",
       "      <td>16</td>\n",
       "      <td>Realme</td>\n",
       "      <td>Sunburst Gold</td>\n",
       "      <td>realme 9</td>\n",
       "      <td>14.999</td>\n",
       "    </tr>\n",
       "    <tr>\n",
       "      <th>1925</th>\n",
       "      <td>5000</td>\n",
       "      <td>Snapdragon</td>\n",
       "      <td>6</td>\n",
       "      <td>128</td>\n",
       "      <td>50</td>\n",
       "      <td>16</td>\n",
       "      <td>Realme</td>\n",
       "      <td>Prism Black</td>\n",
       "      <td>realme 9i</td>\n",
       "      <td>13.499</td>\n",
       "    </tr>\n",
       "  </tbody>\n",
       "</table>\n",
       "</div>"
      ],
      "text/plain": [
       "     Battery (mAh)   Processor  RAM (GB)  ROM (GB)  Main Camera (Pixel)  \\\n",
       "1680          5000  Snapdragon         4        64                   50   \n",
       "1690          5000    Mediatek         6       128                   50   \n",
       "357           5000  Snapdragon         4       128                   50   \n",
       "972           5000  Snapdragon         8       128                  108   \n",
       "1925          5000  Snapdragon         6       128                   50   \n",
       "\n",
       "     Front Camera (Pixel)          Company          Color           Model  \\\n",
       "1680                   16           Realme    Prism Black       realme 9i   \n",
       "1690                   16           Xiaomi      Cool Blue  POCO M4 Pro 5G   \n",
       "357                    16  BBK Electronics     Starry Sky     vivo T1 44W   \n",
       "972                    16           Realme  Sunburst Gold        realme 9   \n",
       "1925                   16           Realme    Prism Black       realme 9i   \n",
       "\n",
       "       Price  \n",
       "1680  10.499  \n",
       "1690  13.999  \n",
       "357   14.499  \n",
       "972   14.999  \n",
       "1925  13.499  "
      ]
     },
     "execution_count": 258,
     "metadata": {},
     "output_type": "execute_result"
    }
   ],
   "source": [
    "df.drop(columns=['RAM','ROM','first camera','front camera','company','color','model','price','description'],axis=1,inplace=True)\n",
    "df.sample(5)"
   ]
  },
  {
   "cell_type": "code",
   "execution_count": 259,
   "id": "1b4c3e71",
   "metadata": {},
   "outputs": [
    {
     "data": {
      "image/png": "[encoded data removed]",
      "text/plain": [
       "<Figure size 648x504 with 1 Axes>"
      ]
     },
     "metadata": {
      "needs_background": "light"
     },
     "output_type": "display_data"
    }
   ],
   "source": [
    "plt.figure(figsize=(9,7))\n",
    "sns.barplot(data=df,x='RAM (GB)',y='ROM (GB)')\n",
    "plt.show()"
   ]
  },
  {
   "cell_type": "code",
   "execution_count": 260,
   "id": "d0a3ebe7",
   "metadata": {},
   "outputs": [
    {
     "data": {
      "image/png": "[encoded data removed]",
      "text/plain": [
       "<Figure size 648x504 with 1 Axes>"
      ]
     },
     "metadata": {
      "needs_background": "light"
     },
     "output_type": "display_data"
    }
   ],
   "source": [
    "plt.figure(figsize=(9,7))\n",
    "sns.barplot(data=df,x='Front Camera (Pixel)',y='Main Camera (Pixel)')\n",
    "plt.show()"
   ]
  },
  {
   "cell_type": "code",
   "execution_count": 261,
   "id": "b38f5f53",
   "metadata": {},
   "outputs": [
    {
     "name": "stdout",
     "output_type": "stream",
     "text": [
      "<class 'pandas.core.frame.DataFrame'>\n",
      "Int64Index: 2045 entries, 0 to 2087\n",
      "Data columns (total 10 columns):\n",
      " #   Column                Non-Null Count  Dtype  \n",
      "---  ------                --------------  -----  \n",
      " 0   Battery (mAh)         2045 non-null   object \n",
      " 1   Processor             2045 non-null   object \n",
      " 2   RAM (GB)              2045 non-null   int32  \n",
      " 3   ROM (GB)              2045 non-null   int32  \n",
      " 4   Main Camera (Pixel)   2045 non-null   int32  \n",
      " 5   Front Camera (Pixel)  2045 non-null   object \n",
      " 6   Company               2045 non-null   object \n",
      " 7   Color                 2045 non-null   object \n",
      " 8   Model                 2045 non-null   object \n",
      " 9   Price                 2045 non-null   float64\n",
      "dtypes: float64(1), int32(3), object(6)\n",
      "memory usage: 216.3+ KB\n"
     ]
    }
   ],
   "source": [
    "df.info()"
   ]
  },
  {
   "cell_type": "code",
   "execution_count": 262,
   "id": "bb9385ed",
   "metadata": {},
   "outputs": [],
   "source": [
    "df['Battery (mAh)']=df['Battery (mAh)'].astype('int')\n",
    "df['Front Camera (Pixel)']=df['Front Camera (Pixel)'].astype('int')"
   ]
  },
  {
   "cell_type": "code",
   "execution_count": 263,
   "id": "b99c27c2",
   "metadata": {},
   "outputs": [
    {
     "name": "stdout",
     "output_type": "stream",
     "text": [
      "<class 'pandas.core.frame.DataFrame'>\n",
      "Int64Index: 2045 entries, 0 to 2087\n",
      "Data columns (total 10 columns):\n",
      " #   Column                Non-Null Count  Dtype  \n",
      "---  ------                --------------  -----  \n",
      " 0   Battery (mAh)         2045 non-null   int32  \n",
      " 1   Processor             2045 non-null   object \n",
      " 2   RAM (GB)              2045 non-null   int32  \n",
      " 3   ROM (GB)              2045 non-null   int32  \n",
      " 4   Main Camera (Pixel)   2045 non-null   int32  \n",
      " 5   Front Camera (Pixel)  2045 non-null   int32  \n",
      " 6   Company               2045 non-null   object \n",
      " 7   Color                 2045 non-null   object \n",
      " 8   Model                 2045 non-null   object \n",
      " 9   Price                 2045 non-null   float64\n",
      "dtypes: float64(1), int32(5), object(4)\n",
      "memory usage: 200.3+ KB\n"
     ]
    }
   ],
   "source": [
    "df.info()"
   ]
  },
  {
   "cell_type": "code",
   "execution_count": 264,
   "id": "934b4344",
   "metadata": {},
   "outputs": [
    {
     "data": {
      "image/png": "[encoded data removed]",
      "text/plain": [
       "<Figure size 648x504 with 2 Axes>"
      ]
     },
     "metadata": {
      "needs_background": "light"
     },
     "output_type": "display_data"
    }
   ],
   "source": [
    "corr_matrix=df.corr(numeric_only=True)\n",
    "plt.figure(figsize=(9,7))\n",
    "sns.heatmap(corr_matrix,annot=True,square=True,cbar=True,annot_kws={'size':15},fmt='.2',cmap='Blues')\n",
    "plt.show()"
   ]
  },
  {
   "cell_type": "code",
   "execution_count": 265,
   "id": "e3da0fe8",
   "metadata": {},
   "outputs": [],
   "source": [
    "X=df.drop(columns=['Price'],axis='columns')\n",
    "y=df['Price']"
   ]
  },
  {
   "cell_type": "code",
   "execution_count": 266,
   "id": "94e66f16",
   "metadata": {},
   "outputs": [],
   "source": [
    "X_train,X_test,y_train,y_test=train_test_split(X,y,test_size=0.2,random_state=101)"
   ]
  },
  {
   "cell_type": "code",
   "execution_count": 267,
   "id": "978ead63",
   "metadata": {},
   "outputs": [
    {
     "data": {
      "text/plain": [
       "(1636, 9)"
      ]
     },
     "execution_count": 267,
     "metadata": {},
     "output_type": "execute_result"
    }
   ],
   "source": [
    "X_train.shape"
   ]
  },
  {
   "cell_type": "code",
   "execution_count": 268,
   "id": "2442338d",
   "metadata": {},
   "outputs": [
    {
     "data": {
      "text/plain": [
       "(409, 9)"
      ]
     },
     "execution_count": 268,
     "metadata": {},
     "output_type": "execute_result"
    }
   ],
   "source": [
    "X_test.shape"
   ]
  },
  {
   "cell_type": "code",
   "execution_count": 269,
   "id": "b029b2a0",
   "metadata": {},
   "outputs": [
    {
     "data": {
      "text/html": [
       "<div>\n",
       "<style scoped>\n",
       "    .dataframe tbody tr th:only-of-type {\n",
       "        vertical-align: middle;\n",
       "    }\n",
       "\n",
       "    .dataframe tbody tr th {\n",
       "        vertical-align: top;\n",
       "    }\n",
       "\n",
       "    .dataframe thead th {\n",
       "        text-align: right;\n",
       "    }\n",
       "</style>\n",
       "<table border=\"1\" class=\"dataframe\">\n",
       "  <thead>\n",
       "    <tr style=\"text-align: right;\">\n",
       "      <th></th>\n",
       "      <th>Battery (mAh)</th>\n",
       "      <th>Processor</th>\n",
       "      <th>RAM (GB)</th>\n",
       "      <th>ROM (GB)</th>\n",
       "      <th>Main Camera (Pixel)</th>\n",
       "      <th>Front Camera (Pixel)</th>\n",
       "      <th>Company</th>\n",
       "      <th>Color</th>\n",
       "      <th>Model</th>\n",
       "    </tr>\n",
       "  </thead>\n",
       "  <tbody>\n",
       "    <tr>\n",
       "      <th>969</th>\n",
       "      <td>5000</td>\n",
       "      <td>Snapdragon</td>\n",
       "      <td>6</td>\n",
       "      <td>128</td>\n",
       "      <td>50</td>\n",
       "      <td>16</td>\n",
       "      <td>Lenovo</td>\n",
       "      <td>Metallic White</td>\n",
       "      <td>MOTOROLA g52</td>\n",
       "    </tr>\n",
       "    <tr>\n",
       "      <th>1785</th>\n",
       "      <td>5000</td>\n",
       "      <td>Snapdragon</td>\n",
       "      <td>6</td>\n",
       "      <td>128</td>\n",
       "      <td>50</td>\n",
       "      <td>16</td>\n",
       "      <td>Lenovo</td>\n",
       "      <td>Metallic White</td>\n",
       "      <td>MOTOROLA g52</td>\n",
       "    </tr>\n",
       "    <tr>\n",
       "      <th>1453</th>\n",
       "      <td>5000</td>\n",
       "      <td>Snapdragon</td>\n",
       "      <td>8</td>\n",
       "      <td>128</td>\n",
       "      <td>108</td>\n",
       "      <td>16</td>\n",
       "      <td>Realme</td>\n",
       "      <td>Meteor Black</td>\n",
       "      <td>realme 9</td>\n",
       "    </tr>\n",
       "    <tr>\n",
       "      <th>1930</th>\n",
       "      <td>5000</td>\n",
       "      <td>Mediatek</td>\n",
       "      <td>6</td>\n",
       "      <td>128</td>\n",
       "      <td>50</td>\n",
       "      <td>16</td>\n",
       "      <td>Xiaomi</td>\n",
       "      <td>Cool Blue</td>\n",
       "      <td>POCO M4 Pro 5G</td>\n",
       "    </tr>\n",
       "    <tr>\n",
       "      <th>198</th>\n",
       "      <td>5000</td>\n",
       "      <td>Snapdragon</td>\n",
       "      <td>6</td>\n",
       "      <td>128</td>\n",
       "      <td>50</td>\n",
       "      <td>16</td>\n",
       "      <td>Lenovo</td>\n",
       "      <td>Charcoal Grey</td>\n",
       "      <td>MOTOROLA g52</td>\n",
       "    </tr>\n",
       "    <tr>\n",
       "      <th>...</th>\n",
       "      <td>...</td>\n",
       "      <td>...</td>\n",
       "      <td>...</td>\n",
       "      <td>...</td>\n",
       "      <td>...</td>\n",
       "      <td>...</td>\n",
       "      <td>...</td>\n",
       "      <td>...</td>\n",
       "      <td>...</td>\n",
       "    </tr>\n",
       "    <tr>\n",
       "      <th>1633</th>\n",
       "      <td>5000</td>\n",
       "      <td>Snapdragon</td>\n",
       "      <td>4</td>\n",
       "      <td>64</td>\n",
       "      <td>50</td>\n",
       "      <td>16</td>\n",
       "      <td>Realme</td>\n",
       "      <td>Prism Blue</td>\n",
       "      <td>realme 9i</td>\n",
       "    </tr>\n",
       "    <tr>\n",
       "      <th>1902</th>\n",
       "      <td>5000</td>\n",
       "      <td>Snapdragon</td>\n",
       "      <td>4</td>\n",
       "      <td>64</td>\n",
       "      <td>50</td>\n",
       "      <td>8</td>\n",
       "      <td>BBK Electronics</td>\n",
       "      <td>Space Blue</td>\n",
       "      <td>vivo T1X</td>\n",
       "    </tr>\n",
       "    <tr>\n",
       "      <th>1390</th>\n",
       "      <td>5000</td>\n",
       "      <td>Snapdragon</td>\n",
       "      <td>4</td>\n",
       "      <td>128</td>\n",
       "      <td>50</td>\n",
       "      <td>16</td>\n",
       "      <td>BBK Electronics</td>\n",
       "      <td>Rainbow Fantasy</td>\n",
       "      <td>vivo T1 5G</td>\n",
       "    </tr>\n",
       "    <tr>\n",
       "      <th>1580</th>\n",
       "      <td>5000</td>\n",
       "      <td>Snapdragon</td>\n",
       "      <td>4</td>\n",
       "      <td>128</td>\n",
       "      <td>50</td>\n",
       "      <td>8</td>\n",
       "      <td>BBK Electronics</td>\n",
       "      <td>Gravity Black</td>\n",
       "      <td>vivo T1X</td>\n",
       "    </tr>\n",
       "    <tr>\n",
       "      <th>881</th>\n",
       "      <td>5000</td>\n",
       "      <td>Mediatek</td>\n",
       "      <td>6</td>\n",
       "      <td>128</td>\n",
       "      <td>64</td>\n",
       "      <td>16</td>\n",
       "      <td>Xiaomi</td>\n",
       "      <td>Power Black</td>\n",
       "      <td>POCO M4 Pro</td>\n",
       "    </tr>\n",
       "  </tbody>\n",
       "</table>\n",
       "<p>1636 rows × 9 columns</p>\n",
       "</div>"
      ],
      "text/plain": [
       "      Battery (mAh)   Processor  RAM (GB)  ROM (GB)  Main Camera (Pixel)  \\\n",
       "969            5000  Snapdragon         6       128                   50   \n",
       "1785           5000  Snapdragon         6       128                   50   \n",
       "1453           5000  Snapdragon         8       128                  108   \n",
       "1930           5000    Mediatek         6       128                   50   \n",
       "198            5000  Snapdragon         6       128                   50   \n",
       "...             ...         ...       ...       ...                  ...   \n",
       "1633           5000  Snapdragon         4        64                   50   \n",
       "1902           5000  Snapdragon         4        64                   50   \n",
       "1390           5000  Snapdragon         4       128                   50   \n",
       "1580           5000  Snapdragon         4       128                   50   \n",
       "881            5000    Mediatek         6       128                   64   \n",
       "\n",
       "      Front Camera (Pixel)          Company            Color           Model  \n",
       "969                     16           Lenovo   Metallic White    MOTOROLA g52  \n",
       "1785                    16           Lenovo   Metallic White    MOTOROLA g52  \n",
       "1453                    16           Realme     Meteor Black        realme 9  \n",
       "1930                    16           Xiaomi        Cool Blue  POCO M4 Pro 5G  \n",
       "198                     16           Lenovo    Charcoal Grey    MOTOROLA g52  \n",
       "...                    ...              ...              ...             ...  \n",
       "1633                    16           Realme       Prism Blue       realme 9i  \n",
       "1902                     8  BBK Electronics       Space Blue        vivo T1X  \n",
       "1390                    16  BBK Electronics  Rainbow Fantasy      vivo T1 5G  \n",
       "1580                     8  BBK Electronics    Gravity Black        vivo T1X  \n",
       "881                     16           Xiaomi      Power Black     POCO M4 Pro  \n",
       "\n",
       "[1636 rows x 9 columns]"
      ]
     },
     "execution_count": 269,
     "metadata": {},
     "output_type": "execute_result"
    }
   ],
   "source": [
    "X_train"
   ]
  },
  {
   "cell_type": "code",
   "execution_count": 270,
   "id": "d3dd12dc",
   "metadata": {},
   "outputs": [
    {
     "data": {
      "text/plain": [
       "969     12.999\n",
       "1785    12.999\n",
       "1453    14.999\n",
       "1930    13.999\n",
       "198     12.999\n",
       "         ...  \n",
       "1633    10.499\n",
       "1902    11.999\n",
       "1390    15.990\n",
       "1580    12.999\n",
       "881     12.999\n",
       "Name: Price, Length: 1636, dtype: float64"
      ]
     },
     "execution_count": 270,
     "metadata": {},
     "output_type": "execute_result"
    }
   ],
   "source": [
    "y_train"
   ]
  },
  {
   "cell_type": "code",
   "execution_count": 273,
   "id": "8cb01329",
   "metadata": {},
   "outputs": [],
   "source": [
    "transformer_list=[('encode',OneHotEncoder(sparse=False,drop='first'),[1,6,7,8]),\n",
    "                 ('scale',StandardScaler(),[0,2,3,4,5])]"
   ]
  },
  {
   "cell_type": "code",
   "execution_count": 274,
   "id": "ffd09623",
   "metadata": {},
   "outputs": [
    {
     "name": "stderr",
     "output_type": "stream",
     "text": [
      "C:\\Users\\power\\AppData\\Local\\Programs\\Python\\Python310\\lib\\site-packages\\sklearn\\preprocessing\\_encoders.py:972: FutureWarning: `sparse` was renamed to `sparse_output` in version 1.2 and will be removed in 1.4. `sparse_output` is ignored unless you leave `sparse` to its default value.\n",
      "  warnings.warn(\n"
     ]
    },
    {
     "name": "stdout",
     "output_type": "stream",
     "text": [
      "R2 Score is:  0.9999023943216394\n",
      "MAE is:  0.01736522494299714\n",
      "RMSE is:  0.02307109747978352\n"
     ]
    }
   ],
   "source": [
    "step1=ColumnTransformer(transformer_list,remainder='passthrough')\n",
    "rf=RandomForestRegressor()\n",
    "gbdt=GradientBoostingRegressor()\n",
    "xgb=XGBRegressor()\n",
    "lr=LinearRegression()\n",
    "et=ExtraTreesRegressor()\n",
    "step2=VotingRegressor([('rf',rf),('gbdt',gbdt),('xgb',xgb),('lr',lr),('et',et)],weights=[5,1,1,1,1])\n",
    "pipe=Pipeline([\n",
    "    ('step1',step1),\n",
    "    ('step2',step2)\n",
    "])\n",
    "pipe.fit(X_train,y_train)\n",
    "y_pred=pipe.predict(X_test)\n",
    "print('R2 Score is: ',r2_score(y_test,y_pred))\n",
    "print('MAE is: ',mean_absolute_error(y_pred,y_test))\n",
    "print('RMSE is: ',np.sqrt(mean_squared_error(y_pred,y_test)))"
   ]
  },
  {
   "cell_type": "code",
   "execution_count": 275,
   "id": "bf343f74",
   "metadata": {},
   "outputs": [],
   "source": [
    "c=[5000,'Snapdragon',6,128,50,16,'Lenovo','Metallic White','MOTOROLA g52']"
   ]
  },
  {
   "cell_type": "code",
   "execution_count": 276,
   "id": "59b01a8f",
   "metadata": {},
   "outputs": [
    {
     "name": "stderr",
     "output_type": "stream",
     "text": [
      "C:\\Users\\power\\AppData\\Local\\Programs\\Python\\Python310\\lib\\site-packages\\sklearn\\base.py:464: UserWarning: X does not have valid feature names, but OneHotEncoder was fitted with feature names\n",
      "  warnings.warn(\n",
      "C:\\Users\\power\\AppData\\Local\\Programs\\Python\\Python310\\lib\\site-packages\\sklearn\\base.py:464: UserWarning: X does not have valid feature names, but StandardScaler was fitted with feature names\n",
      "  warnings.warn(\n"
     ]
    },
    {
     "data": {
      "text/plain": [
       "array([13.00827435])"
      ]
     },
     "execution_count": 276,
     "metadata": {},
     "output_type": "execute_result"
    }
   ],
   "source": [
    "pipe.predict([c])"
   ]
  },
  {
   "cell_type": "code",
   "execution_count": 278,
   "id": "d3392086",
   "metadata": {},
   "outputs": [],
   "source": [
    "pickle.dump(df,open('df.pkl','wb'))\n",
    "pickle.dump(pipe,open('pipe.pkl','wb'))"
   ]
  }
 ],
 "metadata": {
  "kernelspec": {
   "display_name": "Python 3 (ipykernel)",
   "language": "python",
   "name": "python3"
  },
  "language_info": {
   "codemirror_mode": {
    "name": "ipython",
    "version": 3
   },
   "file_extension": ".py",
   "mimetype": "text/x-python",
   "name": "python",
   "nbconvert_exporter": "python",
   "pygments_lexer": "ipython3",
   "version": "3.10.5"
  }
 },
 "nbformat": 4,
 "nbformat_minor": 5
}
